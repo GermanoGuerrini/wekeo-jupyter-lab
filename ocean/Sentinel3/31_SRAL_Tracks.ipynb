{
 "cells": [
  {
   "cell_type": "markdown",
   "metadata": {},
   "source": [
    "\n",
    "<img src='./img/LogoWekeo_Copernicus_RGB_0.png' alt='' align='centre' width='30%'></img>\n",
    "\n",
    "\n",
    "## First look at \"basic\" altimetry data for Sentinel-3, SRAL ##"
   ]
  },
  {
   "cell_type": "markdown",
   "metadata": {},
   "source": [
    "    Version: 3.0\n",
    "    Date:    13/07/2020\n",
    "    Author:  Ben Loveday (InnoFlair, Plymouth Marine Laboratory) and Hayley Evers-King (EUMETSAT)\n",
    "    Credit:  This code was developed for EUMETSAT under contracts for the European Commission Copernicus \n",
    "             programme.\n",
    "    License: This code is offered as open source and free-to-use in the public domain, \n",
    "             with no warranty, under the MIT license associated with this code repository."
   ]
  },
  {
   "cell_type": "markdown",
   "metadata": {},
   "source": [
    "As part of Copernicus, EUMETSAT operates the Surface Topography Mission (STM) on Sentinel-3. The mission consists of a package of instruments including the Synthetic Aperture radar altimetry (SRAL), Microwave Radiometer (MWR) and DORIS positioning antenna. Here we will look at the waveforms provided by this package of instruments.\n",
    "\n",
    "For this notebook we will use Level-2 altimetry data from Sentinel-3. The main point of this exercise is to show you how altimetry data 'looks', and especially to highlight that altimetry data are not (for now) imagery or swath data. Thus you won't have a native grid of pixels, but a 'track' of data. Waveforms are the fundamental signal that altimeters receive, and from which they derive all their information about the ocean surface. The shape of a waveform is determined by how a radar pulse interacts with the Earth's surface. Much more information on waveforms can be found <a href = \"http://www.altimetry.info/radar-altimetry-tutorial/how-altimetry-works/from-radar-pulse-to-altimetry-measurements/\">here</a>.\n",
    "\n",
    "<div class=\"alert alert-block alert-warning\">\n",
    "    <b>Get the WEkEO User credentials</b>\n",
    "<hr>\n",
    "If you want to download the data to use this notebook, you will need WEkEO User credentials. If you do not have these, you can register <a href=\"https://www.wekeo.eu/web/guest/user-registration\" target=\"_blank\">here</a>.\n"
   ]
  },
  {
   "cell_type": "markdown",
   "metadata": {},
   "source": [
    "As usual, we begin by importing required libraries"
   ]
  },
  {
   "cell_type": "code",
   "execution_count": null,
   "metadata": {},
   "outputs": [],
   "source": [
    "# to interpret paths and folder for any OS\n",
    "import os, sys\n",
    "# math library\n",
    "import numpy as np\n",
    "# reading of NetCDF data\n",
    "import xarray as xr\n",
    "# plotting library\n",
    "import matplotlib\n",
    "import matplotlib.pyplot as plt\n",
    "import matplotlib as mpl\n",
    "from matplotlib import dates\n",
    "# mapping library\n",
    "import cartopy.crs as ccrs\n",
    "import cartopy.feature as cfeature\n",
    "\n",
    "import json\n",
    "from IPython.core.display import display, HTML\n",
    "import glob\n",
    "from zipfile import ZipFile\n",
    "\n",
    "import warnings\n",
    "warnings.filterwarnings('ignore')"
   ]
  },
  {
   "cell_type": "markdown",
   "metadata": {},
   "source": [
    "Then the user can install the WEKEO HDA client.\n",
    "The WEkEO HDA client is a python based library and it provides support for both Python 2.7.x and Python 3."
   ]
  },
  {
   "cell_type": "markdown",
   "metadata": {},
   "source": [
    "The WEkEO HDA client is a python based library. It provides support for both Python 2.7.x and Python 3."
   ]
  },
  {
   "cell_type": "markdown",
   "metadata": {},
   "source": [
    "In order to install the WEkEO HDA client via the package management system pip, you have to running on Unix/Linux the command shown below."
   ]
  },
  {
   "cell_type": "code",
   "execution_count": null,
   "metadata": {},
   "outputs": [],
   "source": [
    "pip install hda"
   ]
  },
  {
   "cell_type": "markdown",
   "metadata": {},
   "source": [
    "Please verify the following requirements are installed before skipping to the next step:\n",
    "   - Python 3\n",
    "   - requests\n",
    "   - tqdm"
   ]
  },
  {
   "cell_type": "markdown",
   "metadata": {},
   "source": [
    "#### Load WEkEO HDA client"
   ]
  },
  {
   "cell_type": "markdown",
   "metadata": {},
   "source": [
    "The hda client provides a fully compliant Python 3 client that can be used to search and download products using the Harmonized Data Access WEkEO API.\n",
    "HDA is RESTful interface allowing users to search and download WEkEO datasets.\n",
    "Documentation about its usage can be found at https://www.wekeo.eu/."
   ]
  },
  {
   "cell_type": "code",
   "execution_count": null,
   "metadata": {},
   "outputs": [],
   "source": [
    "from hda import Client"
   ]
  },
  {
   "cell_type": "markdown",
   "metadata": {},
   "source": [
    "In the box below, we will set up a few parameters to help our figure plotting later on"
   ]
  },
  {
   "cell_type": "code",
   "execution_count": null,
   "metadata": {},
   "outputs": [],
   "source": [
    "#we will look at the plot within the notebooks\n",
    "%matplotlib inline\n",
    "plt.rcParams[\"figure.figsize\"] = (16,10)\n",
    "plt.ioff()\n",
    "matplotlib.rcParams.update({'font.size': 16})\n",
    "\n",
    "land_resolution = '50m'\n",
    "land_poly = cfeature.NaturalEarthFeature('physical', 'land', land_resolution,\n",
    "                                        edgecolor='k',\n",
    "                                        facecolor=cfeature.COLORS['land'])"
   ]
  },
  {
   "cell_type": "markdown",
   "metadata": {},
   "source": [
    "Now we will start our script, proper.\n",
    "\n",
    "To run this script, we will download some data from WEkEO harmonised data access. WEkEO provides access to a huge number of datasets through its **'harmonised-data-access'** API. This allows us to query the full data catalogue and download data quickly and directly onto the Jupyter Lab. You can search for what data is available <a href=\"https://wekeo.eu/data?view=catalogue\">here</a>\n",
    "\n",
    "In order to use the HDA client we need to provide some authentication credentials. Each user first makes sure the file \"$HOME/.hdarc\" exists with the URL to the API end point and your user and password.\n",
    "\n",
    "For example, to search for the file .hdarc in the $HOME diretory, the user would open a terminale and run the following command:"
   ]
  },
  {
   "cell_type": "raw",
   "metadata": {},
   "source": [
    "find $HOME -type f -name .hdarc"
   ]
  },
  {
   "cell_type": "markdown",
   "metadata": {},
   "source": [
    "Then he could copy the code below in the file \"$HOME/.hdarc\" (in your Unix/Linux environment) and adapt the following template with the credentials of your WEkEO account:"
   ]
  },
  {
   "cell_type": "raw",
   "metadata": {},
   "source": [
    "# your URL and WEkEO API username and password (needs to be in '  ')\n",
    "url: 'https://wekeo-broker.apps.mercator.dpi.wekeo.eu/databroker'\n",
    "user_name = '#############'\n",
    "password = '#############'"
   ]
  },
  {
   "cell_type": "raw",
   "metadata": {},
   "source": [
    "Lastly, we will tell the notebook where to find the query we will use to find the data. These 'JSON' queries are what we use to ask WEkEO for data. They have a very specific form, but allow us quite fine grained control over what data to get. You can find the example one that we will use here: **JSON_templates/EO_EUM_DAT_SENTINEL-3_SR_2_WAT___.json**"
   ]
  },
  {
   "cell_type": "markdown",
   "metadata": {},
   "source": [
    "If he doesn't have a WEkEO account, please self register at the WEkEO registration page https://my.wekeo.eu/web/guest/user-registration."
   ]
  },
  {
   "cell_type": "code",
   "execution_count": null,
   "metadata": {},
   "outputs": [],
   "source": [
    "# set this key to true to download data.\n",
    "download_data = True\n",
    "\n",
    " # This reduces the resolution of the plot to conserve memory - increasing the number gives a coarser plot\n",
    "grid_factor = 3"
   ]
  },
  {
   "cell_type": "code",
   "execution_count": null,
   "metadata": {},
   "outputs": [],
   "source": [
    "# where the data should be downloaded to:\n",
    "download_dir_path = os.path.join(os.getcwd(),'products')\n",
    "# where we can find our data query form:\n",
    "JSON_query_dir = os.path.join(os.getcwd(),'JSON_templates')\n",
    "# HDA-API loud and noisy?\n",
    "verbose = False\n",
    "\n",
    "# make the output directory if required\n",
    "if not os.path.exists(download_dir_path):\n",
    "    os.makedirs(download_dir_path)"
   ]
  },
  {
   "cell_type": "markdown",
   "metadata": {},
   "source": [
    "Now we have set how we want the script to run, we are ready to get some data. We start this process by telling the script what kind of data we want. In this case, this is SRAL level 2 data, which has the following designation on WEkEO: **EO:EUM:DAT:SENTINEL-3:SR_2_WAT___**."
   ]
  },
  {
   "cell_type": "code",
   "execution_count": null,
   "metadata": {},
   "outputs": [],
   "source": [
    "# SLSTR LEVEL 2 Dataset ID\n",
    "dataset_id = \"EO:EUM:DAT:SENTINEL-3:SR_2_WAT___\""
   ]
  },
  {
   "cell_type": "markdown",
   "metadata": {},
   "source": [
    "Here, we use this dataset_id to find the correct, locally stored JSON query file which describes the data we want. The query file is called: **JSON_templates/EO_EUM_DAT_SENTINEL-3_SR_2_WAT___.json**\n",
    "\n",
    "You can edit this query if you want to get different data, but be aware of asking for too much data - you could be here a while and might run out of space to use this data in the JupyterLab. The box below gets the correct query file."
   ]
  },
  {
   "cell_type": "code",
   "execution_count": null,
   "metadata": {},
   "outputs": [],
   "source": [
    "# find query file\n",
    "JSON_query_file = os.path.join(JSON_query_dir,dataset_id.replace(':','_')+\".json\")\n",
    "if not os.path.exists(JSON_query_file):\n",
    "    print('Query file ' + JSON_query_file + ' does not exist')\n",
    "else:\n",
    "    print('Found JSON query file for '+dataset_id)"
   ]
  },
  {
   "cell_type": "markdown",
   "metadata": {},
   "source": [
    "Now we have a query, we need to launch it to WEkEO to get our data. The box below uses directly the client to download data.\n",
    "\n",
    "This is quite a complex process, so much of the functionality has been buried 'behind the scenes'. If you want more information, you can check out the **wekeo-hda** tool kit in the parent training directory. The code below will report some information as it runs. At the end, it should tell you that one product has been downloaded."
   ]
  },
  {
   "cell_type": "code",
   "execution_count": null,
   "metadata": {
    "scrolled": true
   },
   "outputs": [],
   "source": [
    "if download_data:\n",
    "    # load the query\n",
    "    with open(JSON_query_file, 'r') as f:\n",
    "        query = json.load(f)\n",
    "\n",
    "    # download data\n",
    "    print('Downloading data...')\n",
    "    c = Client(debug=True)\n",
    "\n",
    "    matches = c.search(query)\n",
    "    print(matches)\n",
    "    matches.download()\n",
    "    "
   ]
  },
  {
   "cell_type": "code",
   "execution_count": null,
   "metadata": {},
   "outputs": [],
   "source": [
    "if download_data:\n",
    "    # unzip file\n",
    "    HAPI_dict = []\n",
    "    for filename in os.listdir(os.getcwd()):\n",
    "        if os.path.splitext(filename)[-1] == '.zip':\n",
    "            HAPI_dict.append(filename)\n",
    "            print('Unzipping file')\n",
    "            try:\n",
    "                with ZipFile(filename, 'r') as zipObj:\n",
    "                    # Extract all the contents of zip file in current directory\n",
    "                    zipObj.extractall(os.path.dirname(filename))\n",
    "\n",
    "                # clear up the zip file\n",
    "                os.remove(filename)\n",
    "            except:\n",
    "                print(\"Failed to unzip....\")"
   ]
  },
  {
   "cell_type": "code",
   "execution_count": null,
   "metadata": {},
   "outputs": [],
   "source": [
    "if download_data:\n",
    "    unzipped_file = HAPI_dict[0].replace('.zip','.SEN3')\n",
    "else:\n",
    "    unzipped_file = glob.glob(os.path.join(download_dir_path,'*SR_2_WAT*.SEN3'))"
   ]
  },
  {
   "cell_type": "markdown",
   "metadata": {},
   "source": [
    "Sentinel-3 SRAL level 2 data are provided in three versions (all in the same zipped folder): reduced, standard and enhanced. The nomenclature of the folder name for these products is SATELLITE_SR_level_WAT____begindate_time_enddate_time_XXX_cycle_orbit; so in the case of a Sentinel-3A level-2 altimetry product, a product would beging with the following designation:\n",
    "\n",
    "S3A_SR_2_WAT____\n",
    "\n",
    "Try the below cell on standard, reduced and enhanced file in turn. Note the differences between them (e.g. in the number of variables). The use of either of these files depends on your need and/or expertise and storage capability."
   ]
  },
  {
   "cell_type": "code",
   "execution_count": null,
   "metadata": {},
   "outputs": [],
   "source": [
    "#look at what is in a Sentinel-3A SRAL file folder\n",
    "#data are in a folder parallel to the current one, named data\n",
    "#to change from one file to the other, comment the current one, un-comment the one to test. \n",
    "print(os.getcwd()+'/'+unzipped_file)\n",
    "input_root    = os.path.dirname(os.getcwd()+'/'+unzipped_file)\n",
    "input_path    = os.path.basename(unzipped_file)\n",
    "input_file = 'standard_measurement.nc'\n",
    "#input_file = 'reduced_measurement.nc'\n",
    "#input_file = 'enhanced_measurement.nc'\n",
    "\n",
    "my_file = os.path.join(input_root,input_path,input_file)\n",
    "nc = xr.open_dataset(my_file)\n",
    "\n",
    "#list the variables within the file.\n",
    "for variable in nc.variables:\n",
    "    print(variable)"
   ]
  },
  {
   "cell_type": "markdown",
   "metadata": {},
   "source": [
    "Now we will explore the size and statistics of the file. "
   ]
  },
  {
   "cell_type": "code",
   "execution_count": null,
   "metadata": {},
   "outputs": [],
   "source": [
    "# choose a variable at 1 Hz for now\n",
    "# e.g. we choose the range in Ku band at 1 Hz\n",
    "range_ku = nc.variables['range_ocean_01_ku'][:]\n",
    "swh_ocean_01_ku = nc.variables['swh_ocean_01_ku'][:]\n",
    "wind_speed_alt_01_ku = nc.variables['wind_speed_alt_01_ku'][:]\n",
    "ssha_01_ku = nc.variables['ssha_01_ku'][:]\n",
    "\n",
    "#flags\n",
    "range_ocean_qual_01_ku = nc.variables['range_ocean_qual_01_ku'][:]\n",
    "swh_ocean_qual_01_ku = nc.variables['swh_ocean_qual_01_ku'][:]\n",
    "sig0_ocean_qual_01_ku = nc.variables['sig0_ocean_qual_01_ku'][:]\n",
    "surf_class_01 = nc.variables['surf_class_01'][:]\n",
    "rad_surf_type_01 = nc.variables['rad_surf_type_01'][:]\n",
    "\n",
    "lat = nc.variables['lat_01'][:]\n",
    "lon = nc.variables['lon_01'][:]\n",
    "\n",
    "#show number of points, min max\n",
    "print(['array length: ', np.shape(range_ku)])\n",
    "print(['minimum: ', np.min(range_ku)])\n",
    "print(['maximum: ', np.max(range_ku)])\n",
    "print(['mean: ', np.mean(range_ku)])\n",
    "print(['mean in km: ', np.mean(range_ku)/1000])\n",
    "print(['standard deviation: ', np.std(range_ku)])\n",
    "\n",
    "#try the same on the 20 Hz(at least for the shape of the array)\n",
    "range_20_ku = nc.variables['range_ocean_20_ku'][:]\n",
    "#show number of points, min max\n",
    "print(['array length 20Hz: ', np.shape(range_20_ku)])\n",
    "\n",
    "nc.close()"
   ]
  },
  {
   "cell_type": "markdown",
   "metadata": {},
   "source": [
    "All Sentinel-3 level 2 marine products have quality flags associated with the geophysical variables. These give us confidence in our data, or describe why we cannot make retrievals of the parameters we are interested in. The next cell loads some data from these quality flags for range, significant wave height and surface roughness, as well as surface class information."
   ]
  },
  {
   "cell_type": "code",
   "execution_count": null,
   "metadata": {},
   "outputs": [],
   "source": [
    "# QC variables\n",
    "range_ku[range_ocean_qual_01_ku != 0.0] = np.nan\n",
    "swh_ocean_01_ku[swh_ocean_qual_01_ku != 0.0] = np.nan\n",
    "ssha_01_ku[range_ocean_qual_01_ku != 0.0] = np.nan\n",
    "ssha_01_ku[surf_class_01 != 0.0] = np.nan\n",
    "ssha_01_ku[rad_surf_type_01 != 0.0] = np.nan\n",
    "wind_speed_alt_01_ku[sig0_ocean_qual_01_ku != 0.0] = np.nan"
   ]
  },
  {
   "cell_type": "markdown",
   "metadata": {},
   "source": [
    "Now lets plot our along track data (against latitude) and show where our flags suggest bad data."
   ]
  },
  {
   "cell_type": "code",
   "execution_count": null,
   "metadata": {},
   "outputs": [],
   "source": [
    "norm_range = range_ku - np.nanmin(range_ku)\n",
    "norm_range = norm_range / np.nanmax(abs(norm_range))\n",
    "\n",
    "flags_range1 = range_ocean_qual_01_ku.astype(float)\n",
    "flags_range1[flags_range1 != 0.0] = 1.1\n",
    "flags_range1[flags_range1 == 0.0] = np.nan\n",
    "\n",
    "flags_range2 = swh_ocean_qual_01_ku.astype(float)\n",
    "flags_range2[flags_range2 != 0.0] = 1.2\n",
    "flags_range2[flags_range2 == 0.0] = np.nan\n",
    "\n",
    "flags_range3 = surf_class_01.astype(float)\n",
    "flags_range3[flags_range3 != 0.0] = 1.3\n",
    "flags_range3[flags_range3 == 0.0] = np.nan\n",
    "\n",
    "flags_range4 = sig0_ocean_qual_01_ku.astype(float)\n",
    "flags_range4[flags_range4 != 0.0] = 1.4\n",
    "flags_range4[flags_range4 == 0.0] = np.nan\n",
    "\n",
    "fig1 = plt.figure(figsize=(10, 10), dpi=600)\n",
    "ax = plt.subplot(1,1,1)\n",
    "p1, = ax.plot(norm_range, lat, 'k', label='Normalised Range')\n",
    "p2, = ax.plot(flags_range1, lat, 'ro',linewidth=0.0, label='Range quality flag is bad')\n",
    "p3, = ax.plot(flags_range2, lat, 'bo',linewidth=0.0, label='Significant wave height quality flag is bad')\n",
    "p4, = ax.plot(flags_range3, lat, 'go',linewidth=0.0, label='Surface class is not ocean')\n",
    "p5, = ax.plot(flags_range4, lat, 'mo',linewidth=0.0, label='Sigma 0 quality flag is bad')\n",
    "plt.xlabel('Range and flag values', fontsize=16)\n",
    "plt.ylabel('Latitude', fontsize=16)\n",
    "\n",
    "handles, labels = ax.get_legend_handles_labels()\n",
    "plt.legend(handles, labels, fontsize=8)\n",
    "plt.savefig('Quality_flags')\n",
    "plt.show()"
   ]
  },
  {
   "cell_type": "markdown",
   "metadata": {},
   "source": [
    "In the plot we can clearly see the flags raised where the track is likely over land/ice rather than ocean.\n",
    "\n",
    "Now we will plot some  variables on a map. This will clearly show the data to be a'line' or 'track' of measurements along the orbit, and also that a file contains data from part of an orbit."
   ]
  },
  {
   "cell_type": "code",
   "execution_count": null,
   "metadata": {},
   "outputs": [],
   "source": [
    "fig1 = plt.figure(figsize=(20, 20), dpi=300)\n",
    "\n",
    "#define a projection for our map\n",
    "m = plt.axes(projection=ccrs.PlateCarree(central_longitude=0.0))\n",
    "#vmin and vmax for the scale are truncated slightly to help viewing; the satellite is at a distance around 315 km from the surface\n",
    "low_pc = np.percentile(range_ku[np.isfinite(range_ku)],5)\n",
    "high_pc = np.percentile(range_ku[np.isfinite(range_ku)],95)\n",
    "range_ku[range_ku < low_pc] = low_pc\n",
    "range_ku[range_ku > high_pc] = high_pc\n",
    "\n",
    "f1 = m.scatter(lon, lat, c=range_ku, cmap='Spectral_r', marker='o', edgecolors=None, linewidth=0.0, vmin=low_pc, vmax=high_pc)\n",
    "m.coastlines(resolution=land_resolution, color='black', linewidth=1)\n",
    "m.add_feature(land_poly)\n",
    "g1 = m.gridlines(draw_labels = True)\n",
    "g1.xlabels_top = False\n",
    "g1.xlabel_style = {'size': 16, 'color': 'gray'}\n",
    "g1.ylabel_style = {'size': 16, 'color': 'gray'}\n",
    "\n",
    "cbar = plt.colorbar(f1, orientation=\"horizontal\", fraction=0.05, pad=0.07)\n",
    "cbar.ax.tick_params(labelsize=16)\n",
    "cbar.set_label('Range (1 Hz Ku) [m]', size=18)\n",
    "plt.savefig('fig_range')\n",
    "plt.show()"
   ]
  },
  {
   "cell_type": "code",
   "execution_count": null,
   "metadata": {},
   "outputs": [],
   "source": [
    "fig1 = plt.figure(figsize=(20, 20), dpi=300)\n",
    "\n",
    "#define a projection for our map\n",
    "m = plt.axes(projection=ccrs.PlateCarree(central_longitude=0.0))\n",
    "#vmin and vmax for the scale are truncated slightly to help viewing; the satellite is at a distance around 315 km from the surface\n",
    "low_pc = np.percentile(swh_ocean_01_ku[np.isfinite(swh_ocean_01_ku)],5)\n",
    "high_pc = np.percentile(swh_ocean_01_ku[np.isfinite(swh_ocean_01_ku)],95)\n",
    "swh_ocean_01_ku[swh_ocean_01_ku < low_pc] = low_pc\n",
    "swh_ocean_01_ku[swh_ocean_01_ku > high_pc] = high_pc\n",
    "\n",
    "f1 = m.scatter(lon, lat, c=swh_ocean_01_ku, cmap='Spectral_r', marker='o', edgecolors=None, linewidth=0.0, vmin=low_pc, vmax=high_pc)\n",
    "m.coastlines(resolution=land_resolution, color='black', linewidth=1)\n",
    "m.add_feature(land_poly)\n",
    "g1 = m.gridlines(draw_labels = True)\n",
    "g1.xlabels_top = False\n",
    "g1.xlabel_style = {'size': 16, 'color': 'gray'}\n",
    "g1.ylabel_style = {'size': 16, 'color': 'gray'}\n",
    "\n",
    "cbar = plt.colorbar(f1, orientation=\"horizontal\", fraction=0.05, pad=0.07)\n",
    "cbar.ax.tick_params(labelsize=16)\n",
    "cbar.set_label('Significant Wave Height (1 Hz Ku) [m]', size=18)\n",
    "plt.savefig('fig_SWH')\n",
    "plt.show()"
   ]
  },
  {
   "cell_type": "code",
   "execution_count": null,
   "metadata": {},
   "outputs": [],
   "source": [
    "fig1 = plt.figure(figsize=(20, 20), dpi=300)\n",
    "\n",
    "#define a projection for our map\n",
    "m = plt.axes(projection=ccrs.PlateCarree(central_longitude=0.0))\n",
    "#vmin and vmax for the scale are truncated slightly to help viewing; the satellite is at a distance around 315 km from the surface\n",
    "low_pc = np.percentile(wind_speed_alt_01_ku[np.isfinite(wind_speed_alt_01_ku)],5)\n",
    "high_pc = np.percentile(wind_speed_alt_01_ku[np.isfinite(wind_speed_alt_01_ku)],95)\n",
    "wind_speed_alt_01_ku[wind_speed_alt_01_ku < low_pc] = low_pc\n",
    "wind_speed_alt_01_ku[wind_speed_alt_01_ku > high_pc] = high_pc\n",
    "\n",
    "f1 = m.scatter(lon, lat, c=wind_speed_alt_01_ku, cmap='Spectral_r', marker='o', edgecolors=None, linewidth=0.0, vmin=low_pc, vmax=high_pc)\n",
    "m.coastlines(resolution='50m', color='black', linewidth=1)\n",
    "m.add_feature(cfeature.LAND, facecolor='0.75')\n",
    "g1 = m.gridlines(draw_labels = True)\n",
    "g1.xlabels_top = False\n",
    "g1.xlabel_style = {'size': 16, 'color': 'gray'}\n",
    "g1.ylabel_style = {'size': 16, 'color': 'gray'}\n",
    "\n",
    "cbar = plt.colorbar(f1, orientation=\"horizontal\", fraction=0.05, pad=0.07)\n",
    "cbar.ax.tick_params(labelsize=16)\n",
    "cbar.set_label('Wind Speed (1 Hz ku) [m.s$^{-1}$]', size=18)\n",
    "plt.savefig('fig_WS')\n",
    "plt.show()"
   ]
  },
  {
   "cell_type": "code",
   "execution_count": null,
   "metadata": {},
   "outputs": [],
   "source": [
    "fig1 = plt.figure(figsize=(20, 20), dpi=300)\n",
    "\n",
    "#define a projection for our map\n",
    "m = plt.axes(projection=ccrs.PlateCarree(central_longitude=0.0))\n",
    "#vmin and vmax for the scale are truncated slightly to help viewing; the satellite is at a distance around 315 km from the surface\n",
    "abs_ssha_01_ku = abs(ssha_01_ku)\n",
    "high_pc = np.percentile(abs_ssha_01_ku[np.isfinite(ssha_01_ku)],95)\n",
    "ssha_01_ku[ssha_01_ku < high_pc*-1] = high_pc*-1\n",
    "ssha_01_ku[ssha_01_ku > high_pc] = high_pc\n",
    "\n",
    "f1 = m.scatter(lon, lat, c=ssha_01_ku, cmap='RdBu_r', marker='o', edgecolors=None, linewidth=0.0, vmin=-1*high_pc, vmax=high_pc)\n",
    "m.coastlines(resolution=land_resolution, color='black', linewidth=1)\n",
    "m.add_feature(land_poly)\n",
    "g1 = m.gridlines(draw_labels = True)\n",
    "g1.xlabels_top = False\n",
    "g1.xlabel_style = {'size': 16, 'color': 'gray'}\n",
    "g1.ylabel_style = {'size': 16, 'color': 'gray'}\n",
    "\n",
    "cbar = plt.colorbar(f1, orientation=\"horizontal\", fraction=0.05, pad=0.07)\n",
    "cbar.ax.tick_params(labelsize=16)\n",
    "cbar.set_label('Sea Surface Height Anomaly Speed (1 Hz ku) [m]', size=18)\n",
    "plt.savefig('fig_SSHA')\n",
    "plt.show()"
   ]
  },
  {
   "cell_type": "markdown",
   "metadata": {},
   "source": [
    "<img src='./img/all_partners_wekeo.png' alt='' align='center' width='75%'></img>"
   ]
  },
  {
   "cell_type": "markdown",
   "metadata": {},
   "source": [
    "<p style=\"text-align:left;\">This project is licensed under the <a href=\"./LICENSE\">MIT License</a> <span style=\"float:right;\"><a href=\"https://github.com/wekeo/wekeo-jupyter-lab\">View on GitHub</a> | <a href=\"https://www.wekeo.eu/\">WEkEO Website</a> | <a href=mailto:support@wekeo.eu>Contact</a></span></p>"
   ]
  }
 ],
 "metadata": {
  "kernelspec": {
   "display_name": "Python 3 (ipykernel)",
   "language": "python",
   "name": "python3"
  },
  "language_info": {
   "codemirror_mode": {
    "name": "ipython",
    "version": 3
   },
   "file_extension": ".py",
   "mimetype": "text/x-python",
   "name": "python",
   "nbconvert_exporter": "python",
   "pygments_lexer": "ipython3",
   "version": "3.8.6"
  }
 },
 "nbformat": 4,
 "nbformat_minor": 4
}

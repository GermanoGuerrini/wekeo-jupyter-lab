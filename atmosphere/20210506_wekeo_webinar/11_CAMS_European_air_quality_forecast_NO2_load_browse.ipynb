{
 "cells": [
  {
   "cell_type": "markdown",
   "metadata": {
    "Collapsed": "false"
   },
   "source": [
    "<img src='./img/LogoWekeo_Copernicus_RGB_0.png' alt='Logo EU Copernicus EUMETSAT' align='right' width='20%'></img>"
   ]
  },
  {
   "cell_type": "markdown",
   "metadata": {
    "Collapsed": "false"
   },
   "source": [
    "<br>"
   ]
  },
  {
   "cell_type": "markdown",
   "metadata": {
    "Collapsed": "false"
   },
   "source": [
    "<a href=\"./00_index.ipynb\"><< Index</a><br>\n",
    "<a href=\"./10_CAMS_European_air_quality_forecast_retrieve.ipynb\"><< 10 - CAMS European air quality forecast - Nitrogen Dioxide - Retrieve</a><span style=\"float:right;\"><a href=\"./20_Sentinel5P_TROPOMI_NO2_L2_retrieve.ipynb\">20 - Sentinel-5P NO<sub>2</sub> - Retrieve >></a></span>"
   ]
  },
  {
   "cell_type": "markdown",
   "metadata": {},
   "source": [
    "<div class=\"alert alert-block alert-warning\">\n",
    "<b>LOAD, BROWSE AND VISUALIZE</b></div>"
   ]
  },
  {
   "cell_type": "markdown",
   "metadata": {
    "Collapsed": "false"
   },
   "source": [
    "# CAMS - European Air Quality Forecasts and Analyses - Nitrogen Dioxide"
   ]
  },
  {
   "cell_type": "markdown",
   "metadata": {
    "Collapsed": "false"
   },
   "source": [
    "This notebooks provides an introduction to the CAMS European Air Quality Forecasts and Analyses and how the data can be used to monitor increased levels of `Nitrogen Dioxide` over Europe.\n",
    "\n",
    "The notebook shows the Nitrogen Dioxide forecast from 4 February 2021 for the next three days. During this period, elevated Nitrogen Dioxide values were recorded. CAMS provides maps of daily average surface concentrations of key air pollutants, e.g. NO<sub>2</sub>, PM2.5, PM10 and Ozone [here](https://atmosphere.copernicus.eu/european-air-quality-information-support-covid-19-crisis).\n",
    "\n",
    "CAMS European Air Quality Forecasts and Analyses are available in either `GRIB` or `netCDF`. You can retrieve the data from the [Atmosphere Data Store](https://ads.atmosphere.copernicus.eu/cdsapp#!/dataset/cams-europe-air-quality-forecasts?tab=overview) or retrieve the data from WEkEO with the help of the HDA API."
   ]
  },
  {
   "cell_type": "markdown",
   "metadata": {},
   "source": [
    "<br>"
   ]
  },
  {
   "cell_type": "markdown",
   "metadata": {
    "Collapsed": "false"
   },
   "source": [
    "#### Module outline:\n",
    "* [1 - Load and browse the CAMS Europeaen Air Quality forecast data](#load_browse_europe)\n",
    "* [2 - Retrieve the data variable Nitrogen Dioxide as xarray.DataArray](#data_retrieve_europ)\n",
    "* [3 - Visualize Nitrogen Dioxide at surface over Europe](#visualize_europe)\n",
    "* [5 - Animate Nitroge Dioxide levels at surface over time](#animate_europe)"
   ]
  },
  {
   "cell_type": "markdown",
   "metadata": {},
   "source": [
    "<hr>"
   ]
  },
  {
   "cell_type": "markdown",
   "metadata": {
    "Collapsed": "false"
   },
   "source": [
    "#### Load required libraries"
   ]
  },
  {
   "cell_type": "code",
   "execution_count": null,
   "metadata": {
    "Collapsed": "false"
   },
   "outputs": [],
   "source": [
    "%matplotlib inline\n",
    "import os\n",
    "import xarray as xr\n",
    "import numpy as np\n",
    "import netCDF4 as nc\n",
    "import pandas as pd\n",
    "\n",
    "from IPython.display import HTML\n",
    "\n",
    "import matplotlib.pyplot as plt\n",
    "import matplotlib.colors\n",
    "from matplotlib.cm import get_cmap\n",
    "from matplotlib import animation\n",
    "import cartopy.crs as ccrs\n",
    "from cartopy.mpl.gridliner import LONGITUDE_FORMATTER, LATITUDE_FORMATTER\n",
    "import cartopy.feature as cfeature\n",
    "\n",
    "from matplotlib.axes import Axes\n",
    "from cartopy.mpl.geoaxes import GeoAxes\n",
    "GeoAxes._pcolormesh_patched = Axes.pcolormesh\n",
    "from datetime import datetime\n",
    "\n",
    "import warnings\n",
    "warnings.simplefilter(action = \"ignore\", category = RuntimeWarning)"
   ]
  },
  {
   "cell_type": "markdown",
   "metadata": {},
   "source": [
    "#### Load helper functions"
   ]
  },
  {
   "cell_type": "code",
   "execution_count": null,
   "metadata": {},
   "outputs": [],
   "source": [
    "%run ./functions.ipynb"
   ]
  },
  {
   "cell_type": "markdown",
   "metadata": {
    "Collapsed": "false"
   },
   "source": [
    "<hr>"
   ]
  },
  {
   "cell_type": "markdown",
   "metadata": {},
   "source": [
    "### <a id='load_browse_europe'></a>Load and browse `CAMS European Air Quality forecast and analyses` data"
   ]
  },
  {
   "cell_type": "markdown",
   "metadata": {},
   "source": [
    "CAMS global near-real-time forecast data is available either in `GRIB` or `netCDF`. The data for the present example has been downloaded in the `netCDF` format. The notebook [10_CAMS_European_air_quality_forecast_retrieve](./10_CAMS_European_air_quality_forecast_retrieve.ipynb) shows an example how to access the data with the `WEkEO HDA API`. If data aren't available on the machine, the user may use this notebook to download them. \n",
    "\n",
    "You can use xarray's function `xr.open_dataset()` to open the netCDF file as `xarray.Dataset`."
   ]
  },
  {
   "cell_type": "code",
   "execution_count": null,
   "metadata": {},
   "outputs": [],
   "source": [
    "file = xr.open_dataset('./adaptor.cams_regional_fc.retrieve-1639385759.2822495-18756-2-f1fd6140-71d3-46d4-969c-9fa9002e1b41.nc')\n",
    "file\n"
   ]
  },
  {
   "cell_type": "markdown",
   "metadata": {},
   "source": [
    "<br>"
   ]
  },
  {
   "cell_type": "markdown",
   "metadata": {},
   "source": [
    "The data above has four dimensions (`latitude`, `longitude`, `level` and `time`) and one data variable:\n",
    "* `no2_conc`: Mass concentration of Nitrogen Dioxide in the air\n"
   ]
  },
  {
   "cell_type": "markdown",
   "metadata": {},
   "source": [
    "Let us inspect the coordinates of the file more in detail. Below, you see that the data set consists of 12 time steps, starting on 4 February 2021 00 UTC and ranging up to 3 days ahead. However, the format of the time coordinates is in nanoseconds.\n",
    "\n",
    "Let us convert the time information into a human-readable time format."
   ]
  },
  {
   "cell_type": "code",
   "execution_count": null,
   "metadata": {},
   "outputs": [],
   "source": [
    "file.time"
   ]
  },
  {
   "cell_type": "markdown",
   "metadata": {},
   "source": [
    "First, from the `long_name` information of the time dimension, we can retrieve the initial timestamp. With the function `strptime()` from Python's `datetime` library, we can convert it into a `datetime.datetime` object."
   ]
  },
  {
   "cell_type": "code",
   "execution_count": null,
   "metadata": {},
   "outputs": [],
   "source": [
    "timestamp = file.time.long_name[19:27]\n",
    "\n",
    "timestamp_init=datetime.strptime(timestamp,'%Y%m%d' )\n",
    "timestamp_init"
   ]
  },
  {
   "cell_type": "markdown",
   "metadata": {},
   "source": [
    "<br>"
   ]
  },
  {
   "cell_type": "markdown",
   "metadata": {},
   "source": [
    "In a next step, we then build a `DateTimeIndex` object with the help of Panda's `date_range()` function, making use of the length of time dimension.\n",
    "The result is a `DateTimeIndex` object, which can be used to newly assign the time coordinate information."
   ]
  },
  {
   "cell_type": "code",
   "execution_count": null,
   "metadata": {},
   "outputs": [],
   "source": [
    "time_coords = pd.date_range(timestamp_init, periods=len(file.time), freq='6h').strftime(\"%Y-%m-%d %H:%M:%S\").astype('datetime64[ns]')\n",
    "time_coords\n"
   ]
  },
  {
   "cell_type": "markdown",
   "metadata": {},
   "source": [
    "<br>"
   ]
  },
  {
   "cell_type": "markdown",
   "metadata": {},
   "source": [
    "And the last step is to assign the converted time information to the DataArray `no2_fc`, with the function `assign_coords()`."
   ]
  },
  {
   "cell_type": "code",
   "execution_count": null,
   "metadata": {},
   "outputs": [],
   "source": [
    "no2_fc = file.assign_coords(time=time_coords)\n",
    "no2_fc"
   ]
  },
  {
   "cell_type": "markdown",
   "metadata": {},
   "source": [
    "<br>"
   ]
  },
  {
   "cell_type": "markdown",
   "metadata": {},
   "source": [
    "The latitude values have a 0.1 degrees resolution and have a European coverage."
   ]
  },
  {
   "cell_type": "code",
   "execution_count": null,
   "metadata": {},
   "outputs": [],
   "source": [
    "file.latitude"
   ]
  },
  {
   "cell_type": "markdown",
   "metadata": {},
   "source": [
    "The longitude values have a 0.1 degrees resolution as well, but are on a [0,360] grid instead of a [-180,180] grid. "
   ]
  },
  {
   "cell_type": "code",
   "execution_count": null,
   "metadata": {},
   "outputs": [],
   "source": [
    "file.longitude"
   ]
  },
  {
   "cell_type": "markdown",
   "metadata": {},
   "source": [
    "<br>"
   ]
  },
  {
   "cell_type": "markdown",
   "metadata": {},
   "source": [
    "### <a id='shift_europe'></a>Bring longitude coordinates onto a [-180,180] grid"
   ]
  },
  {
   "cell_type": "markdown",
   "metadata": {},
   "source": [
    "You can assign new values to coordinates in an `xarray.Dataset`. You can do so with the `assign_coords()` function, which you can apply onto a `xarray.Dataset`. The code below shifts your longitude grid from [0,360] to [-180,180]. At the end, you sort the longitude values in an ascending order."
   ]
  },
  {
   "cell_type": "code",
   "execution_count": null,
   "metadata": {},
   "outputs": [],
   "source": [
    "file_assigned = no2_fc.assign_coords(longitude=(((no2_fc.longitude + 180) % 360) - 180)).sortby('longitude')\n",
    "file_assigned"
   ]
  },
  {
   "cell_type": "markdown",
   "metadata": {},
   "source": [
    "<br>"
   ]
  },
  {
   "cell_type": "markdown",
   "metadata": {},
   "source": [
    "A quick check of the longitude coordinates of the new `xarray.Dataset` shows you that the longitude values are now on a [-180, 180] longitude grid."
   ]
  },
  {
   "cell_type": "code",
   "execution_count": null,
   "metadata": {},
   "outputs": [],
   "source": [
    "file_assigned.longitude"
   ]
  },
  {
   "cell_type": "markdown",
   "metadata": {},
   "source": [
    "### <a id='data_retrieve_europe'></a>Retrieve the data variable `dust` as xarray.DataArray"
   ]
  },
  {
   "cell_type": "markdown",
   "metadata": {},
   "source": [
    "Let us store the data variable `no2_conc` as `xarray.DataArray` with the name `no2_conc`."
   ]
  },
  {
   "cell_type": "code",
   "execution_count": null,
   "metadata": {},
   "outputs": [],
   "source": [
    "no2_conc = file_assigned.no2_conc\n",
    "no2_conc"
   ]
  },
  {
   "cell_type": "markdown",
   "metadata": {},
   "source": [
    "<br>"
   ]
  },
  {
   "cell_type": "markdown",
   "metadata": {},
   "source": [
    "Above, you see that the variable `no2_conc` has four attributes, `species`, `units`, `value` and `standard_name`. Let us define variables for the attributes `unit` and `standard_name`. The variables can be used for visualizing the data."
   ]
  },
  {
   "cell_type": "code",
   "execution_count": null,
   "metadata": {},
   "outputs": [],
   "source": [
    "long_name = no2_conc.standard_name\n",
    "units = no2_conc.units"
   ]
  },
  {
   "cell_type": "markdown",
   "metadata": {},
   "source": [
    "<br>"
   ]
  },
  {
   "cell_type": "markdown",
   "metadata": {},
   "source": [
    "Let us do the same for the coordinates `longitude` and `latitude`."
   ]
  },
  {
   "cell_type": "code",
   "execution_count": null,
   "metadata": {},
   "outputs": [],
   "source": [
    "latitude = no2_conc.latitude\n",
    "longitude = no2_conc.longitude"
   ]
  },
  {
   "cell_type": "markdown",
   "metadata": {},
   "source": [
    "<br>"
   ]
  },
  {
   "cell_type": "markdown",
   "metadata": {},
   "source": [
    "### <a id='visualize_europe'></a>Visualize `NO2` concentration over Europe"
   ]
  },
  {
   "cell_type": "markdown",
   "metadata": {},
   "source": [
    "The next step is to visualize the dataset. You can use the function [visualize_pcolormesh](../functions.ipynb#visualize_pcolormesh), which makes use of matploblib's function `pcolormesh` and the [Cartopy](https://scitools.org.uk/cartopy/docs/latest/) library.\n",
    "\n",
    "With `?visualize_pcolormesh` you can open the function's docstring to see what keyword arguments are needed to prepare your plot."
   ]
  },
  {
   "cell_type": "code",
   "execution_count": null,
   "metadata": {},
   "outputs": [],
   "source": [
    "?visualize_pcolormesh"
   ]
  },
  {
   "cell_type": "markdown",
   "metadata": {},
   "source": [
    "<br>"
   ]
  },
  {
   "cell_type": "markdown",
   "metadata": {},
   "source": [
    "You can make use of the variables we have defined above:\n",
    "- `units`\n",
    "- `long_name`\n",
    "- `latitude`\n",
    "- `longitude`\n",
    "\n",
    "Additionally, you can specify the color scale and minimum and maxium data values."
   ]
  },
  {
   "cell_type": "code",
   "execution_count": null,
   "metadata": {},
   "outputs": [],
   "source": [
    "visualize_pcolormesh(data_array=no2_conc[6,0,:,:],\n",
    "                     longitude=longitude,\n",
    "                     latitude=latitude,\n",
    "                     projection=ccrs.PlateCarree(),\n",
    "                     color_scale='Reds',\n",
    "                     unit=units,\n",
    "                     long_name=long_name + ' ' + str(no2_conc[6,0,:,:].time.data),\n",
    "                     vmin=0, \n",
    "                     vmax=35,\n",
    "                     lonmin=longitude.min().data,\n",
    "                     lonmax=longitude.max().data,\n",
    "                     latmin=latitude.min().data,\n",
    "                     latmax=latitude.max().data,\n",
    "                     set_global=False)"
   ]
  },
  {
   "cell_type": "markdown",
   "metadata": {},
   "source": [
    "<br>"
   ]
  },
  {
   "cell_type": "markdown",
   "metadata": {},
   "source": [
    "### <a id='animate_europe'></a>Animate `NO2 concentration` forecast over Europe"
   ]
  },
  {
   "cell_type": "markdown",
   "metadata": {},
   "source": [
    "In the last step, you can animate the `Nitrogen Dioxide concentration` forecast in order to see how the pollutant is predicted over a period of three days, from 4th to 6th February 2021.\n",
    "\n",
    "You can do animations with matplotlib's function `animation`. Jupyter's function `HTML` can then be used to display HTML and video content."
   ]
  },
  {
   "cell_type": "markdown",
   "metadata": {},
   "source": [
    "The animation function consists of 4 parts:\n",
    "- **Setting the initial state:**<br>\n",
    " Here, you define the general plot your animation shall use to initialise the animation. You can also define the number of frames (time steps) your animation shall have.\n",
    " \n",
    " \n",
    "- **Functions to animate:**<br>\n",
    " An animation consists of three functions: `draw()`, `init()` and `animate()`. `draw()` is the function where individual frames are passed on and the figure is returned as image. In this example, the function redraws the plot for each time step. `init()` returns the figure you defined for the initial state. `animate()` returns the `draw()` function and animates the function over the given number of frames (time steps).\n",
    " \n",
    " \n",
    "- **Create a `animate.FuncAnimation` object:** <br>\n",
    " The functions defined before are now combined to build an `animate.FuncAnimation` object.\n",
    " \n",
    " \n",
    "- **Play the animation as video:**<br>\n",
    " As a final step, you can integrate the animation into the notebook with the `HTML` class. You take the generate animation object and convert it to a HTML5 video with the `to_html5_video` function"
   ]
  },
  {
   "cell_type": "code",
   "execution_count": null,
   "metadata": {},
   "outputs": [],
   "source": [
    "# Setting the initial state:\n",
    "# 1. Define figure for initial plot\n",
    "fig, ax = visualize_pcolormesh(data_array=no2_conc[0,0,:,:],\n",
    "                               longitude=no2_conc.longitude, \n",
    "                               latitude=no2_conc.latitude,\n",
    "                               projection=ccrs.PlateCarree(), \n",
    "                               color_scale='Reds', \n",
    "                               unit=units,\n",
    "                               long_name=long_name + ' '+ str(no2_conc.time[0].data),\n",
    "                               vmin=0,\n",
    "                               vmax=35, \n",
    "                               lonmin=longitude.min().data, \n",
    "                               lonmax=longitude.max().data, \n",
    "                               latmin=latitude.min().data, \n",
    "                               latmax=latitude.max().data,\n",
    "                               set_global=False)\n",
    "\n",
    "frames = 13\n",
    "\n",
    "def draw(i):\n",
    "    img = plt.pcolormesh(no2_conc.longitude, \n",
    "                         no2_conc.latitude, \n",
    "                         no2_conc[i,0,:,:], \n",
    "                         cmap='Reds', \n",
    "                         transform=ccrs.PlateCarree(),\n",
    "                         vmin=0,\n",
    "                         vmax=35,\n",
    "                         shading='auto')\n",
    "    \n",
    "    ax.set_title(long_name + ' '+ str(no2_conc.time[i].data), fontsize=20, pad=20.0)\n",
    "    return img\n",
    "\n",
    "\n",
    "def init():\n",
    "    return fig\n",
    "\n",
    "\n",
    "def animate(i):\n",
    "    return draw(i)\n",
    "\n",
    "ani = animation.FuncAnimation(fig, animate, frames, interval=800, blit=False,\n",
    "                              init_func=init, repeat=True)\n",
    "\n",
    "HTML(ani.to_html5_video())\n",
    "plt.close(fig)"
   ]
  },
  {
   "cell_type": "markdown",
   "metadata": {},
   "source": [
    "<br>"
   ]
  },
  {
   "cell_type": "markdown",
   "metadata": {},
   "source": [
    "#### Play the animation video as HTML5 video"
   ]
  },
  {
   "cell_type": "code",
   "execution_count": null,
   "metadata": {},
   "outputs": [],
   "source": [
    "HTML(ani.to_html5_video())"
   ]
  },
  {
   "cell_type": "markdown",
   "metadata": {
    "Collapsed": "false"
   },
   "source": [
    "<br>"
   ]
  },
  {
   "cell_type": "markdown",
   "metadata": {
    "Collapsed": "false"
   },
   "source": [
    "<a href=\"./00_index.ipynb\"><< Index</a><br>\n",
    "<a href=\"./10_CAMS_European_air_quality_forecast_retrieve.ipynb\"><< 10 - CAMS European air quality forecast - Nitrogen Dioxide - Retrieve</a><span style=\"float:right;\"><a href=\"./20_Sentinel5P_TROPOMI_NO2_L2_retrieve.ipynb\">20 - Sentinel-5P NO<sub>2</sub> - Retrieve >></a></span>"
   ]
  },
  {
   "cell_type": "markdown",
   "metadata": {
    "Collapsed": "false"
   },
   "source": [
    "<hr>"
   ]
  },
  {
   "cell_type": "markdown",
   "metadata": {
    "Collapsed": "false"
   },
   "source": [
    "<p><img src='./img/all_partners_wekeo.png' align='left' alt='Logo EU Copernicus' width='100%'></img><p>"
   ]
  }
 ],
 "metadata": {
  "kernelspec": {
   "display_name": "Python 3 (ipykernel)",
   "language": "python",
   "name": "python3"
  },
  "language_info": {
   "codemirror_mode": {
    "name": "ipython",
    "version": 3
   },
   "file_extension": ".py",
   "mimetype": "text/x-python",
   "name": "python",
   "nbconvert_exporter": "python",
   "pygments_lexer": "ipython3",
   "version": "3.8.6"
  }
 },
 "nbformat": 4,
 "nbformat_minor": 4
}

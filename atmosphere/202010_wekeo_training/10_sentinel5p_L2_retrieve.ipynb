{
 "cells": [
  {
   "cell_type": "markdown",
   "metadata": {
    "Collapsed": "false"
   },
   "source": [
    "<img src='./img/LogoWekeo_Copernicus_RGB_0.png' alt='Logo EU Copernicus EUMETSAT' align='right' width='20%'></img>"
   ]
  },
  {
   "cell_type": "markdown",
   "metadata": {
    "Collapsed": "false"
   },
   "source": [
    "<br>"
   ]
  },
  {
   "cell_type": "markdown",
   "metadata": {
    "Collapsed": "false"
   },
   "source": [
    "<a href=\"./00_index.ipynb\"><< Index</a><br>\n",
    "<a href=\"./01_wekeo_atmosphere_data_overview.ipynb\"><< 01 - Overview - Atmosphere data products on WEkEO</a><span style=\"float:right;\"><a href=\"./11_sentinel5p_L2_load_browse.ipynb\">11 - Sentinel-5p Carbon Monoxide - Load and browse >></a></span>"
   ]
  },
  {
   "cell_type": "markdown",
   "metadata": {},
   "source": [
    "<div class=\"alert alert-block alert-info\">\n",
    "<b>DATA RETRIEVE</b></div>"
   ]
  },
  {
   "cell_type": "markdown",
   "metadata": {
    "Collapsed": "false"
   },
   "source": [
    "# Copernicus Sentinel-5 Precursor (Sentinel-5p) - Carbon Monoxide"
   ]
  },
  {
   "cell_type": "markdown",
   "metadata": {},
   "source": [
    "The example below illustrates step-by-step how Copernicus Sentinel-5p carbon monoxide data can be retrieved from WEkEO with the help of the [Harmonized Data Access (HDA) API](https://www.wekeo.eu/docs/harmonised-data-access-api).\n",
    "\n",
    "The HDA API workflow is a six-step process:\n",
    " - [1. Install the WEkEO HDA client](#wekeo_hda_install)\n",
    " - [2. Search for datasets on WEkEO](#wekeo_search)\n",
    " - [3. Get the API request](#wekeo_api_request)\n",
    " - [4. Configure the WEkEO API Authentication](#wekeo_hda_auth)\n",
    " - [5. Load data descriptor file and request data](#wekeo_json)\n",
    " - [6. Download requested data](#wekeo_download)\n",
    " \n",
    "All steps have to be performed in order to be able to retrieve data from WEkEO."
   ]
  },
  {
   "cell_type": "markdown",
   "metadata": {},
   "source": [
    "<hr>"
   ]
  },
  {
   "cell_type": "markdown",
   "metadata": {},
   "source": [
    "#### Load required libraries"
   ]
  },
  {
   "cell_type": "code",
   "execution_count": 1,
   "metadata": {},
   "outputs": [],
   "source": [
    "import os\n",
    "import sys\n",
    "import json\n",
    "import time\n",
    "import base64\n",
    "\n",
    "import requests\n",
    "import warnings\n",
    "warnings.filterwarnings('ignore')\n"
   ]
  },
  {
   "cell_type": "markdown",
   "metadata": {},
   "source": [
    "<hr>"
   ]
  },
  {
   "cell_type": "markdown",
   "metadata": {},
   "source": [
    "### <a id='wekeo_hda_install'></a>1. Install the WEkEO HDA client"
   ]
  },
  {
   "cell_type": "markdown",
   "metadata": {},
   "source": [
    "The WEkEO HDA client is a python based library. It provides support for both Python 2.7.x and Python 3."
   ]
  },
  {
   "cell_type": "markdown",
   "metadata": {},
   "source": [
    "In order to install the WEkEO HDA client via the package management system pip, you have to running on Unix/Linux the command shown below."
   ]
  },
  {
   "cell_type": "code",
   "execution_count": 2,
   "metadata": {},
   "outputs": [
    {
     "name": "stdout",
     "output_type": "stream",
     "text": [
      "Requirement already satisfied: hda in /opt/conda/lib/python3.8/site-packages (0.1.0)\n",
      "Requirement already satisfied: requests>=2.5.0 in /opt/conda/lib/python3.8/site-packages (from hda) (2.24.0)\n",
      "Requirement already satisfied: tqdm in /opt/conda/lib/python3.8/site-packages (from hda) (4.50.2)\n",
      "Requirement already satisfied: idna<3,>=2.5 in /opt/conda/lib/python3.8/site-packages (from requests>=2.5.0->hda) (2.10)\n",
      "Requirement already satisfied: chardet<4,>=3.0.2 in /opt/conda/lib/python3.8/site-packages (from requests>=2.5.0->hda) (3.0.4)\n",
      "Requirement already satisfied: urllib3!=1.25.0,!=1.25.1,<1.26,>=1.21.1 in /opt/conda/lib/python3.8/site-packages (from requests>=2.5.0->hda) (1.25.11)\n",
      "Requirement already satisfied: certifi>=2017.4.17 in /opt/conda/lib/python3.8/site-packages (from requests>=2.5.0->hda) (2021.5.30)\n",
      "Note: you may need to restart the kernel to use updated packages.\n"
     ]
    }
   ],
   "source": [
    "pip install -U hda"
   ]
  },
  {
   "cell_type": "markdown",
   "metadata": {},
   "source": [
    "Please verify the following requirements are installed before skipping to the next step:\n",
    "   - Python 3\n",
    "   - requests\n",
    "   - tqdm"
   ]
  },
  {
   "cell_type": "markdown",
   "metadata": {},
   "source": [
    "#### Load WEkEO HDA client"
   ]
  },
  {
   "cell_type": "markdown",
   "metadata": {},
   "source": [
    "The hda client provides a fully compliant Python 3 client that can be used to search and download products using the Harmonized Data Access WEkEO API.\n",
    "HDA is RESTful interface allowing users to search and download WEkEO datasets.\n",
    "Documentation about its usage can be found at https://www.wekeo.eu/."
   ]
  },
  {
   "cell_type": "code",
   "execution_count": 3,
   "metadata": {},
   "outputs": [],
   "source": [
    "from hda import Client"
   ]
  },
  {
   "cell_type": "markdown",
   "metadata": {},
   "source": [
    "<hr>"
   ]
  },
  {
   "cell_type": "markdown",
   "metadata": {},
   "source": [
    "### <a id='wekeo_search'></a>2. Search for datasets on WEkEO"
   ]
  },
  {
   "cell_type": "markdown",
   "metadata": {},
   "source": [
    "Under [WEkEO DATA](https://www.wekeo.eu/data), you can search all datasets available on WEkEO. To add additional layers, you have to click on the `+` sign, which opens the `Catalogue` interface.\n",
    "There are two search options:<br> \n",
    "- a `free keyword search`, and \n",
    "- a pre-defined `predefined keyword search`, that helps to filter the data based on `area`, `platform`, `data provider` and more.<br> \n",
    "\n",
    "Under `PLATFORM`, you can select *`Sentinel-5P`* and retrieve the results. You can either directly add the data to the map or you can click on `Details`, which opens a dataset description.\n",
    "\n",
    "When you click on `Add to map...`, a window opens where you can select one specific variable of Sentinel-5p TROPOMI. \n",
    "\n",
    "<br>\n",
    "\n",
    "<div style='text-align:center;'>\n",
    "<figure><img src='./img/wekeo_interface_s5p_1.png' width='90%' />\n",
    "    <figcaption><i>WEkEO interface to search for datasets</i></figcaption>\n",
    "</figure>\n",
    "</div>"
   ]
  },
  {
   "cell_type": "markdown",
   "metadata": {},
   "source": [
    "### <a id='wekeo_api_request'></a>3. Get the API request"
   ]
  },
  {
   "cell_type": "markdown",
   "metadata": {},
   "source": [
    "When a layer is added to the map, you can select the download icon, which opens an interface that allows you to tailor your data request.\n",
    "For Sentinel-5P, the following information can be selected:\n",
    "* `Bounding box`\n",
    "* `Sensing start stop time`\n",
    "* `Processing level`\n",
    "* `Product type`\n",
    "\n",
    "Once you made your selection, you can either directly requet the data or you can click on `Show API request`, which opens a window with the HDA API request for the specific data selection.\n",
    "\n",
    "\n",
    "<br>\n",
    "\n",
    "<div style='text-align:center;'>\n",
    "<figure><img src='./img/wekeo_interface_s5p_2.png' width='80%' />\n",
    "    <figcaption><i>Sentinel-5p API request - Example</i></figcaption>\n",
    "</figure>\n",
    "</div>\n",
    "<br>"
   ]
  },
  {
   "cell_type": "markdown",
   "metadata": {},
   "source": [
    "`Copy` the API request and save it as a `JSON` file. We did the same and you can open the `data descriptor` file for Sentinel-5p [here](./s5p_data_descriptor.json)."
   ]
  },
  {
   "cell_type": "markdown",
   "metadata": {},
   "source": [
    "### <a id='wekeo_hda_auth'></a>4. Configure the WEkEO API Authentication"
   ]
  },
  {
   "cell_type": "markdown",
   "metadata": {},
   "source": [
    "In order to interact with WEkEO's Harmonised Data Access API, each user first makes sure the file \"$HOME/.hdarc\" exists with the URL to the API end point and your user and password.\n",
    "\n",
    "For example, to search for the file .hdarc in the $HOME diretory, the user would open a terminale and run the following command:"
   ]
  },
  {
   "cell_type": "raw",
   "metadata": {},
   "source": [
    "find $HOME -type f -name .hdarc"
   ]
  },
  {
   "cell_type": "markdown",
   "metadata": {},
   "source": [
    "Then he could copy the code below in the file \"$HOME/.hdarc\" (in your Unix/Linux environment) and adapt the following template with the credentials of your WEkEO account:"
   ]
  },
  {
   "cell_type": "raw",
   "metadata": {},
   "source": [
    "# your URL and WEkEO API username and password (needs to be in '  ')\n",
    "url: 'https://wekeo-broker.apps.mercator.dpi.wekeo.eu/databroker'\n",
    "user_name = '#############'\n",
    "password = '#############'"
   ]
  },
  {
   "cell_type": "markdown",
   "metadata": {},
   "source": [
    "If he doesn't have a WEkEO account, please self register at the WEkEO registration page https://my.wekeo.eu/web/guest/user-registration."
   ]
  },
  {
   "cell_type": "markdown",
   "metadata": {},
   "source": [
    "### <a id='wekeo_json'></a>5. Load data descriptor file and request data"
   ]
  },
  {
   "cell_type": "markdown",
   "metadata": {},
   "source": [
    "The Harmonised Data Access API can read your data request from a `JSON` file. In this JSON-based file, you can describe the dataset you are interested in downloading. The file is in principle a dictionary. The following keys can be defined:\n",
    "- `datasetID`: the dataset's collection ID\n",
    "- `stringChoiceValues`: type of dataset, e.g. 'processing level' or 'product type'\n",
    "- `dataRangeSelectValues`: time period you would like to retrieve data\n",
    "- `boundingBoxValues`: optional to define a subset of a global field\n",
    "\n",
    "You can load the `JSON` file with `json.load()`."
   ]
  },
  {
   "cell_type": "code",
   "execution_count": 4,
   "metadata": {},
   "outputs": [
    {
     "data": {
      "text/plain": [
       "{'datasetId': 'EO:ESA:DAT:SENTINEL-5P:TROPOMI',\n",
       " 'boundingBoxValues': [{'name': 'bbox',\n",
       "   'bbox': [135.39739634141876,\n",
       "    -44.52932633885725,\n",
       "    162.5751370327434,\n",
       "    -13.045119366579158]}],\n",
       " 'dateRangeSelectValues': [{'name': 'position',\n",
       "   'start': '2019-12-29T00:00:00.000Z',\n",
       "   'end': '2019-12-29T04:00:00.000Z'}],\n",
       " 'stringChoiceValues': [{'name': 'productType', 'value': 'L2__NO2___'},\n",
       "  {'name': 'processingLevel', 'value': 'LEVEL2'},\n",
       "  {'name': 'timeliness', 'value': 'Offline'}]}"
      ]
     },
     "execution_count": 4,
     "metadata": {},
     "output_type": "execute_result"
    }
   ],
   "source": [
    "with open('./s5p_data_descriptor.json', 'r') as f:\n",
    "    data = json.load(f)\n",
    "data"
   ]
  },
  {
   "cell_type": "markdown",
   "metadata": {},
   "source": [
    "### <a id='wekeo_download'></a>6. Download requested data"
   ]
  },
  {
   "cell_type": "markdown",
   "metadata": {},
   "source": [
    "As a final step, you can use directly the client to download data as in following example. "
   ]
  },
  {
   "cell_type": "code",
   "execution_count": 5,
   "metadata": {},
   "outputs": [
    {
     "name": "stderr",
     "output_type": "stream",
     "text": [
      "2021-11-26 15:10:26,482 DEBUG HDA {'url': 'https://wekeo-broker.apps.mercator.dpi.wekeo.eu/databroker', 'token': None, 'user': 'Stefano', 'password': '12qwaszx', 'quiet': False, 'verify': True, 'timeout': None, 'sleep_max': 120, 'retry_max': 500, 'progress': True}\n",
      "2021-11-26 15:10:26,483 DEBUG ===> GET https://wekeo-broker.apps.mercator.dpi.wekeo.eu/databroker/gettoken\n",
      "2021-11-26 15:10:26,485 DEBUG Starting new HTTPS connection (1): wekeo-broker.apps.mercator.dpi.wekeo.eu:443\n",
      "2021-11-26 15:10:27,554 DEBUG https://wekeo-broker.apps.mercator.dpi.wekeo.eu:443 \"GET /databroker/gettoken HTTP/1.1\" 200 61\n",
      "2021-11-26 15:10:27,555 DEBUG <=== {\"access_token\": \"2dea2d79-e347-3284-a787-05b2329f1b8e\"}\n",
      "2021-11-26 15:10:27,556 DEBUG Token is 2dea2d79-e347-3284-a787-05b2329f1b8e\n",
      "2021-11-26 15:10:27,557 DEBUG ===> POST https://wekeo-broker.apps.mercator.dpi.wekeo.eu/databroker/datarequest\n",
      "2021-11-26 15:10:27,557 DEBUG ===> POST {\"datasetId\": \"EO:ESA:DAT:SENTINEL-5P:TROPOMI\", \"boundingBoxValues\": [{\"name\"...\n",
      "2021-11-26 15:10:32,979 DEBUG https://wekeo-broker.apps.mercator.dpi.wekeo.eu:443 \"POST /databroker/datarequest HTTP/1.1\" 200 93\n",
      "2021-11-26 15:10:32,981 DEBUG <=== {\"jobId\": \"WwVhI4mW_5ZVvcy64Bo3lPFpbT8\", \"status\": \"started\", \"results\": [], ...\n",
      "2021-11-26 15:10:32,981 DEBUG Sleeping 1 seconds\n",
      "2021-11-26 15:10:33,983 DEBUG ===> GET https://wekeo-broker.apps.mercator.dpi.wekeo.eu/databroker/datarequest/status/WwVhI4mW_5ZVvcy64Bo3lPFpbT8\n",
      "2021-11-26 15:10:34,071 DEBUG https://wekeo-broker.apps.mercator.dpi.wekeo.eu:443 \"GET /databroker/datarequest/status/WwVhI4mW_5ZVvcy64Bo3lPFpbT8 HTTP/1.1\" 200 43\n",
      "2021-11-26 15:10:34,072 DEBUG <=== {\"status\": \"completed\", \"message\": \"Done!\"}\n",
      "2021-11-26 15:10:34,073 DEBUG ===> GET https://wekeo-broker.apps.mercator.dpi.wekeo.eu/databroker/datarequest/jobs/WwVhI4mW_5ZVvcy64Bo3lPFpbT8/result\n",
      "2021-11-26 15:10:34,159 DEBUG https://wekeo-broker.apps.mercator.dpi.wekeo.eu:443 \"GET /databroker/datarequest/jobs/WwVhI4mW_5ZVvcy64Bo3lPFpbT8/result HTTP/1.1\" 200 1372\n",
      "2021-11-26 15:10:34,160 DEBUG <=== {\"content\": [{\"downloadUri\": null, \"filename\": \"S5P_OFFL_L2__NO2____20191229T...\n",
      "2021-11-26 15:10:34,161 DEBUG {'downloadUri': None, 'filename': 'S5P_OFFL_L2__NO2____20191229T033118_20191229T051248_11446_01_010302_20191230T203027', 'order': None, 'productInfo': {'datasetId': 'EO:ESA:DAT:SENTINEL-5P:TROPOMI', 'product': 'S5P_OFFL_L2__NO2____20191229T033118_20191229T051248_11446_01_010302_20191230T203027', 'productEndDate': '2019-12-29T04:51:16Z', 'productStartDate': '2019-12-29T03:52:53Z'}, 'size': 452541477, 'url': '02b78464-c5fe-5fee-baa1-c07132825891/S5P_OFFL_L2__NO2____20191229T033118_20191229T051248_11446_01_010302_20191230T203027'}\n",
      "2021-11-26 15:10:34,161 DEBUG ===> POST https://wekeo-broker.apps.mercator.dpi.wekeo.eu/databroker/dataorder\n",
      "2021-11-26 15:10:34,162 DEBUG ===> POST {\"jobId\": \"WwVhI4mW_5ZVvcy64Bo3lPFpbT8\", \"uri\": \"02b78464-c5fe-5fee-baa1-c071...\n"
     ]
    },
    {
     "name": "stdout",
     "output_type": "stream",
     "text": [
      "SearchResults[items=2,volume=858.7M,jobId=WwVhI4mW_5ZVvcy64Bo3lPFpbT8]\n"
     ]
    },
    {
     "name": "stderr",
     "output_type": "stream",
     "text": [
      "2021-11-26 15:10:41,644 DEBUG https://wekeo-broker.apps.mercator.dpi.wekeo.eu:443 \"POST /databroker/dataorder HTTP/1.1\" 200 85\n",
      "2021-11-26 15:10:41,645 DEBUG <=== {\"orderId\": \"I1XPp9HV_oPCtv4WV7HlSZMKTq0\", \"status\": \"completed\", \"message\": ...\n",
      "2021-11-26 15:10:41,646 INFO Downloading https://wekeo-broker.apps.mercator.dpi.wekeo.eu/databroker/dataorder/download/I1XPp9HV_oPCtv4WV7HlSZMKTq0 to S5P_OFFL_L2__NO2____20191229T033118_20191229T051248_11446_01_010302_20191230T203027 (431.6M)\n",
      "2021-11-26 15:10:42,342 DEBUG https://wekeo-broker.apps.mercator.dpi.wekeo.eu:443 \"GET /databroker/dataorder/download/I1XPp9HV_oPCtv4WV7HlSZMKTq0 HTTP/1.1\" 302 3399\n",
      "2021-11-26 15:10:42,346 DEBUG Starting new HTTPS connection (1): zipper.creodias.eu:443\n",
      "2021-11-26 15:10:42,762 DEBUG https://zipper.creodias.eu:443 \"GET /download/02b78464-c5fe-5fee-baa1-c07132825891?token=eyJhbGciOiJSUzI1NiIsInR5cCIgOiAiSldUIiwia2lkIiA6ICJ5RUhvWks0aWR2WHFmeExZWFhabjFmTi1YSU1UTXJvdTJ2NmVIQXI5ZWE0In0.eyJleHAiOjE2Mzc5NzU0NDIsImlhdCI6MTYzNzkzOTQ0MiwianRpIjoiNWE1MmRjYzQtNWFmNy00NTM3LTgyNDQtOTU4ZjlkZjkxZWYyIiwiaXNzIjoiaHR0cHM6Ly9hdXRoLmNyZW9kaWFzLmV1L2F1dGgvcmVhbG1zL2RpYXMiLCJhdWQiOlsiQ0xPVURGRVJST19QVUJMSUMiLCJhY2NvdW50Il0sInN1YiI6IjFmMDE2MTJhLTQ0NDktNDVjMC1iNjlmLTdiNWI4MzVkODM5MCIsInR5cCI6IkJlYXJlciIsImF6cCI6IkNMT1VERkVSUk9fUFVCTElDIiwic2Vzc2lvbl9zdGF0ZSI6IjBhMzc5ZjgxLTJkMjYtNDZmMS05Y2Y3LTFjMTVhODMzNDFjNCIsImFjciI6IjEiLCJyZWFsbV9hY2Nlc3MiOnsicm9sZXMiOlsib2ZmbGluZV9hY2Nlc3MiLCJ1bWFfYXV0aG9yaXphdGlvbiJdfSwicmVzb3VyY2VfYWNjZXNzIjp7ImFjY291bnQiOnsicm9sZXMiOlsibWFuYWdlLWFjY291bnQiLCJtYW5hZ2UtYWNjb3VudC1saW5rcyIsInZpZXctcHJvZmlsZSJdfX0sInNjb3BlIjoiYXVkLWZpeCBwcm9maWxlIGFkZHJlc3MgZW1haWwiLCJzaWQiOiIwYTM3OWY4MS0yZDI2LTQ2ZjEtOWNmNy0xYzE1YTgzMzQxYzQiLCJhZGRyZXNzIjp7fSwiZW1haWxfdmVyaWZpZWQiOmZhbHNlLCJ6aXBfbWF4X3Nlc3MiOjIwLCJuYW1lIjoiV2VrZW8gRGF0YSBBZGFwdGVyIiwicHJlZmVycmVkX3VzZXJuYW1lIjoid2VrZW9fYWRhcHRlcl9pbXBAY2xvdWRmZXJyby5jb20iLCJnaXZlbl9uYW1lIjoiV2VrZW8iLCJmYW1pbHlfbmFtZSI6IkRhdGEgQWRhcHRlciIsImVtYWlsIjoid2VrZW9fYWRhcHRlcl9pbXBAY2xvdWRmZXJyby5jb20ifQ.sqhApgefE50KAq4pTwNEMHSXTa-RCtEVUNStKYRPj-VcmcxKgx5ByqhX5wYUCILXr9mGTfTNybary92XI-9E40qoI4ZFASTPB04iVcp57b_4Ur6om7MiCsKhsd9c9oZF14-WCoHrvRG_m8kS6K9b1p4mcC5PyDVkdjrZkqhl-yvKPiiIaKrUa5qj8ox1pT4oyJ1a4NEXp6GSXMjHECH4vtmJKq9-CwlM2P-vEzAhqZpzixEU6TkrsuuxZt9Wgt_a37DMtVjn_jw-8GUajCwnrOWZCPGbJUCy-LpoGryeYpDkjxSoa3h_Wpesrgr9fFrUU3PdE4VpF4i5GT2_1Yvm2w HTTP/1.1\" 200 452722060\n",
      "2021-11-26 15:10:42,763 DEBUG Headers: {'Server': 'nginx/1.17.7', 'Date': 'Fri, 26 Nov 2021 15:10:42 GMT', 'Content-Type': 'application/zip', 'Content-Length': '452722060', 'Connection': 'keep-alive', 'Content-Disposition': 'attachment; filename=S5P_OFFL_L2__NO2____20191229T033118_20191229T051248_11446_01_010302_20191230T203027.zip', 'Accept-Ranges': 'bytes'}\n",
      "2021-11-26 15:11:06,878 WARNING Oops, downloaded 452722060 byte(s), was supposed to be 452541477 (extra 180583)\n",
      "2021-11-26 15:11:06,879 INFO Download rate 17.1M/s\n",
      "2021-11-26 15:11:06,879 DEBUG {'downloadUri': None, 'filename': 'S5P_OFFL_L2__NO2____20191229T014948_20191229T033118_11445_01_010302_20191230T183957', 'order': None, 'productInfo': {'datasetId': 'EO:ESA:DAT:SENTINEL-5P:TROPOMI', 'product': 'S5P_OFFL_L2__NO2____20191229T014948_20191229T033118_11445_01_010302_20191230T183957', 'productEndDate': '2019-12-29T03:09:46Z', 'productStartDate': '2019-12-29T02:11:23Z'}, 'size': 447917983, 'url': 'b24edbd3-5b3a-504e-97b1-c9674e1ebf87/S5P_OFFL_L2__NO2____20191229T014948_20191229T033118_11445_01_010302_20191230T183957'}\n",
      "2021-11-26 15:11:06,880 DEBUG ===> POST https://wekeo-broker.apps.mercator.dpi.wekeo.eu/databroker/dataorder\n",
      "2021-11-26 15:11:06,881 DEBUG ===> POST {\"jobId\": \"WwVhI4mW_5ZVvcy64Bo3lPFpbT8\", \"uri\": \"b24edbd3-5b3a-504e-97b1-c967...\n",
      "2021-11-26 15:11:13,198 DEBUG https://wekeo-broker.apps.mercator.dpi.wekeo.eu:443 \"POST /databroker/dataorder HTTP/1.1\" 200 80\n",
      "2021-11-26 15:11:13,199 DEBUG <=== {\"orderId\": \"IIVDsAmOXfp8P5iz3adhYP5gouA\", \"status\": \"running\", \"message\": null}\n",
      "2021-11-26 15:11:13,201 DEBUG Sleeping 1 seconds\n",
      "2021-11-26 15:11:14,202 DEBUG ===> GET https://wekeo-broker.apps.mercator.dpi.wekeo.eu/databroker/dataorder/status/IIVDsAmOXfp8P5iz3adhYP5gouA\n",
      "2021-11-26 15:11:14,629 DEBUG https://wekeo-broker.apps.mercator.dpi.wekeo.eu:443 \"GET /databroker/dataorder/status/IIVDsAmOXfp8P5iz3adhYP5gouA HTTP/1.1\" 200 313\n",
      "2021-11-26 15:11:14,630 DEBUG <=== {\"status\": \"completed\", \"message\": \"Done!\", \"downloadUri\": \"b24edbd3-5b3a-504...\n",
      "2021-11-26 15:11:14,631 INFO Downloading https://wekeo-broker.apps.mercator.dpi.wekeo.eu/databroker/dataorder/download/IIVDsAmOXfp8P5iz3adhYP5gouA to S5P_OFFL_L2__NO2____20191229T014948_20191229T033118_11445_01_010302_20191230T183957 (427.2M)\n",
      "2021-11-26 15:11:15,261 DEBUG https://wekeo-broker.apps.mercator.dpi.wekeo.eu:443 \"GET /databroker/dataorder/download/IIVDsAmOXfp8P5iz3adhYP5gouA HTTP/1.1\" 302 3399\n",
      "2021-11-26 15:11:15,561 DEBUG https://zipper.creodias.eu:443 \"GET /download/b24edbd3-5b3a-504e-97b1-c9674e1ebf87?token=eyJhbGciOiJSUzI1NiIsInR5cCIgOiAiSldUIiwia2lkIiA6ICJ5RUhvWks0aWR2WHFmeExZWFhabjFmTi1YSU1UTXJvdTJ2NmVIQXI5ZWE0In0.eyJleHAiOjE2Mzc5NzU0NzUsImlhdCI6MTYzNzkzOTQ3NSwianRpIjoiZTY1MTMxNDEtMDBlYS00ZGM3LTgwNGYtMzY4MzIyYjA4ZmM4IiwiaXNzIjoiaHR0cHM6Ly9hdXRoLmNyZW9kaWFzLmV1L2F1dGgvcmVhbG1zL2RpYXMiLCJhdWQiOlsiQ0xPVURGRVJST19QVUJMSUMiLCJhY2NvdW50Il0sInN1YiI6IjFmMDE2MTJhLTQ0NDktNDVjMC1iNjlmLTdiNWI4MzVkODM5MCIsInR5cCI6IkJlYXJlciIsImF6cCI6IkNMT1VERkVSUk9fUFVCTElDIiwic2Vzc2lvbl9zdGF0ZSI6IjA1YjRlYTg1LTE5YzMtNDFiNi04M2MzLTBiMjQzNmMwMzBkNyIsImFjciI6IjEiLCJyZWFsbV9hY2Nlc3MiOnsicm9sZXMiOlsib2ZmbGluZV9hY2Nlc3MiLCJ1bWFfYXV0aG9yaXphdGlvbiJdfSwicmVzb3VyY2VfYWNjZXNzIjp7ImFjY291bnQiOnsicm9sZXMiOlsibWFuYWdlLWFjY291bnQiLCJtYW5hZ2UtYWNjb3VudC1saW5rcyIsInZpZXctcHJvZmlsZSJdfX0sInNjb3BlIjoiYXVkLWZpeCBwcm9maWxlIGFkZHJlc3MgZW1haWwiLCJzaWQiOiIwNWI0ZWE4NS0xOWMzLTQxYjYtODNjMy0wYjI0MzZjMDMwZDciLCJhZGRyZXNzIjp7fSwiZW1haWxfdmVyaWZpZWQiOmZhbHNlLCJ6aXBfbWF4X3Nlc3MiOjIwLCJuYW1lIjoiV2VrZW8gRGF0YSBBZGFwdGVyIiwicHJlZmVycmVkX3VzZXJuYW1lIjoid2VrZW9fYWRhcHRlcl9pbXBAY2xvdWRmZXJyby5jb20iLCJnaXZlbl9uYW1lIjoiV2VrZW8iLCJmYW1pbHlfbmFtZSI6IkRhdGEgQWRhcHRlciIsImVtYWlsIjoid2VrZW9fYWRhcHRlcl9pbXBAY2xvdWRmZXJyby5jb20ifQ.quW8sV5GPPSWG3BBdSZ03Yxelk14dtVSDRQq5uYzyfj13DTNQRD56UwFPik_3kAOGEPZ4x09wBHJB8X16NDNwQWaNO3cO33BG-prMCBRwn9qko0L_pqnqKiGes5bqqiX0gXclD6p6QaK0EmjeS5BMQ58ZCBJMqwSrDh_JiXxIqpxPrHgA1Vwxo5SPPS7gxK2RHfu7wxM-Ahd5Ej-_ORWWiSVsyYLgUJxQZzKskmFzIohFKyY2cAM9wUko61cs2YkKryCxAUBJiiUWzmHWqZsXg5kR_99S8DWfHZ86i-m4JcBIun1GMpXaeOwD050YTN-6QGB8C7PGIKULULZBQyT1A HTTP/1.1\" 200 448099046\n",
      "2021-11-26 15:11:15,562 DEBUG Headers: {'Server': 'nginx/1.17.7', 'Date': 'Fri, 26 Nov 2021 15:11:15 GMT', 'Content-Type': 'application/zip', 'Content-Length': '448099046', 'Connection': 'keep-alive', 'Content-Disposition': 'attachment; filename=S5P_OFFL_L2__NO2____20191229T014948_20191229T033118_11445_01_010302_20191230T183957.zip', 'Accept-Ranges': 'bytes'}\n",
      "2021-11-26 15:11:40,159 WARNING Oops, downloaded 448099046 byte(s), was supposed to be 447917983 (extra 181063)\n",
      "2021-11-26 15:11:40,160 INFO Download rate 16.7M/s\n"
     ]
    }
   ],
   "source": [
    "c = Client(debug=True)\n",
    "\n",
    "matches = c.search(data)\n",
    "print(matches)\n",
    "matches.download()"
   ]
  },
  {
   "cell_type": "markdown",
   "metadata": {
    "Collapsed": "false"
   },
   "source": [
    "<br>"
   ]
  },
  {
   "cell_type": "markdown",
   "metadata": {
    "Collapsed": "false"
   },
   "source": [
    "<a href=\"./00_index.ipynb\"><< Index</a><br>\n",
    "<a href=\"./01_wekeo_atmosphere_data_overview.ipynb\"><< 01 - Overview - Atmosphere data products on WEkEO</a><span style=\"float:right;\"><a href=\"./11_sentinel5p_L2_load_browse.ipynb\">11 - Sentinel-5p Carbon Monoxide - Load and browse >></a></span>"
   ]
  },
  {
   "cell_type": "markdown",
   "metadata": {
    "Collapsed": "false"
   },
   "source": [
    "<hr>"
   ]
  },
  {
   "cell_type": "markdown",
   "metadata": {
    "Collapsed": "false"
   },
   "source": [
    "<img src='./img/all_partners_wekeo.png' alt='Logo EU Copernicus EUMETSAT' align='right' width='100%'></img>"
   ]
  }
 ],
 "metadata": {
  "kernelspec": {
   "display_name": "Python 3 (ipykernel)",
   "language": "python",
   "name": "python3"
  },
  "language_info": {
   "codemirror_mode": {
    "name": "ipython",
    "version": 3
   },
   "file_extension": ".py",
   "mimetype": "text/x-python",
   "name": "python",
   "nbconvert_exporter": "python",
   "pygments_lexer": "ipython3",
   "version": "3.8.6"
  }
 },
 "nbformat": 4,
 "nbformat_minor": 4
}

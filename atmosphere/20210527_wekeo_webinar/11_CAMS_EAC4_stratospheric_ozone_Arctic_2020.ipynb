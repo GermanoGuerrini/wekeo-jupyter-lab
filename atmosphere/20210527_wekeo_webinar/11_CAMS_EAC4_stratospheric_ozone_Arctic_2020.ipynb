{
 "cells": [
  {
   "cell_type": "markdown",
   "metadata": {
    "Collapsed": "false"
   },
   "source": [
    "<img src='./img/LogoWekeo_Copernicus_RGB_0.png' alt='Logo EU Copernicus EUMETSAT' align='right' width='20%'></img>"
   ]
  },
  {
   "cell_type": "markdown",
   "metadata": {},
   "source": [
    "<br>"
   ]
  },
  {
   "cell_type": "markdown",
   "metadata": {},
   "source": [
    "<a href=\"./00_index.ipynb\"><< Index</a><br>\n",
    "<a href=\"./10_cams_eac4_retrieve.ipynb\"><< 10 - CAMS EAC4 - Retrieve</a>"
   ]
  },
  {
   "cell_type": "markdown",
   "metadata": {},
   "source": [
    "<div class=\"alert alert-block alert-warning\">\n",
    "<b>DATA DISCOVERY</b></div>"
   ]
  },
  {
   "cell_type": "markdown",
   "metadata": {},
   "source": [
    "<br>"
   ]
  },
  {
   "cell_type": "markdown",
   "metadata": {},
   "source": [
    "## CAMS Global Reanalysis (EAC4) - Stratospheric Ozone - March 2020"
   ]
  },
  {
   "cell_type": "markdown",
   "metadata": {},
   "source": [
    "This notebook gives an example how `CAMS Global Reanalysis (EAC4)` data can be used to analyse and animate the Arctic ozone hole in March 2020.\n",
    "\n",
    "The example makes use of matplotlib's function `animation` and Jupyter notebooks function `HTML` to display HTML and video content within a notebook. "
   ]
  },
  {
   "cell_type": "markdown",
   "metadata": {},
   "source": [
    "<br>"
   ]
  },
  {
   "cell_type": "markdown",
   "metadata": {},
   "source": [
    "#### Load required libraries"
   ]
  },
  {
   "cell_type": "code",
   "execution_count": null,
   "metadata": {},
   "outputs": [],
   "source": [
    "import xarray as xr\n",
    "import matplotlib.pyplot as plt\n",
    "from matplotlib import animation\n",
    "\n",
    "from IPython.display import HTML\n",
    "import cartopy\n",
    "import cartopy.crs as ccrs\n",
    "from cartopy.mpl.gridliner import LONGITUDE_FORMATTER, LATITUDE_FORMATTER\n",
    "\n",
    "from matplotlib.axes import Axes\n",
    "from cartopy.mpl.geoaxes import GeoAxes"
   ]
  },
  {
   "cell_type": "markdown",
   "metadata": {},
   "source": [
    "#### Load helper functions"
   ]
  },
  {
   "cell_type": "code",
   "execution_count": null,
   "metadata": {},
   "outputs": [],
   "source": [
    "%run ./functions.ipynb"
   ]
  },
  {
   "cell_type": "markdown",
   "metadata": {},
   "source": [
    "<hr>"
   ]
  },
  {
   "cell_type": "markdown",
   "metadata": {},
   "source": [
    "## Load CAMS Global Reanalysis (EAC4) data for March 2020"
   ]
  },
  {
   "cell_type": "markdown",
   "metadata": {},
   "source": [
    "The `CAMS Global Reanalysis (EAC4)` data could be not available on the machine. In this case there is the method to download them to [10 - CAMS EAC4 Retrieve](./10_cams_eac4_retrieve.ipynb).\n",
    "\n",
    "You can load the `CAMS Global Reanalysis (EAC4)` data with xarray's function `xr.open_dataset`. The example data has three dimensions, `latitude`, `longitude` and `time`. You can also see that the EAC data has 62 time steps, with a 12 hourly time step from 01 to 31 March 2020."
   ]
  },
  {
   "cell_type": "code",
   "execution_count": null,
   "metadata": {},
   "outputs": [],
   "source": [
    "cams_fc = './adaptor.mars.internal-1634575682.2198663-18118-12-b8e3a364-5983-418e-8e08-06361ec5c954.nc'\n",
    "cams_fc_xr = xr.open_dataset(cams_fc)\n",
    "cams_fc_xr"
   ]
  },
  {
   "cell_type": "markdown",
   "metadata": {},
   "source": [
    "<br>"
   ]
  },
  {
   "cell_type": "markdown",
   "metadata": {},
   "source": [
    "### Load the ozone data variable as `xarray.DataArray`"
   ]
  },
  {
   "cell_type": "markdown",
   "metadata": {},
   "source": [
    "`gtco3` is the variable name you would like to load as `xarray.DataArray`. You see that the data is disseminated in the unit `kg m**-2`."
   ]
  },
  {
   "cell_type": "code",
   "execution_count": null,
   "metadata": {},
   "outputs": [],
   "source": [
    "cams_o3 = cams_fc_xr['gtco3']\n",
    "cams_o3"
   ]
  },
  {
   "cell_type": "markdown",
   "metadata": {},
   "source": [
    "<br>"
   ]
  },
  {
   "cell_type": "markdown",
   "metadata": {},
   "source": [
    "### Convert from `kg m**-2` to `Dobson Unit`"
   ]
  },
  {
   "cell_type": "markdown",
   "metadata": {},
   "source": [
    "Ozone data are often represented in `Dobson Unit`. By dividing the data values with the factor `2.1415*1e-5`, you can easily convert the total column Ozone data from `kg m**-2` to `Dobson Unit`."
   ]
  },
  {
   "cell_type": "code",
   "execution_count": null,
   "metadata": {},
   "outputs": [],
   "source": [
    "cams_o3_du = cams_o3 / (2.1415*1e-5)\n",
    "cams_o3_du"
   ]
  },
  {
   "cell_type": "markdown",
   "metadata": {},
   "source": [
    "<br>"
   ]
  },
  {
   "cell_type": "markdown",
   "metadata": {},
   "source": [
    "## Visualize the ozone data for one time step with `pcolormesh`"
   ]
  },
  {
   "cell_type": "markdown",
   "metadata": {},
   "source": [
    "Now, the data is already prepared in a way that you can visualized one time step of the loaded data array. You can use the function [visualize_pcolormesh](./functions.ipynb#visualize_pcolormesh), which makes use of matplotlib's pcolormesh and the Python library `Cartopy` to visualize the data."
   ]
  },
  {
   "cell_type": "markdown",
   "metadata": {},
   "source": [
    "With `?visualize_pcolormesh`, you can open the function's docstring in order to see the kwargs required by the function."
   ]
  },
  {
   "cell_type": "code",
   "execution_count": null,
   "metadata": {},
   "outputs": [],
   "source": [
    "visualize_pcolormesh(data_array = cams_o3_du[50,:,:],\n",
    "                    longitude = cams_o3_du.longitude,\n",
    "                    latitude = cams_o3_du.latitude,\n",
    "                    projection = ccrs.Orthographic(0,90),\n",
    "                    color_scale = 'jet', \n",
    "                    unit = 'DU',\n",
    "                    long_name = cams_o3.long_name + \" \" + str(cams_o3_du.time[50].data),\n",
    "                    vmin = 150, \n",
    "                    vmax = 500)"
   ]
  },
  {
   "cell_type": "markdown",
   "metadata": {},
   "source": [
    "<br>"
   ]
  },
  {
   "cell_type": "markdown",
   "metadata": {},
   "source": [
    "## Animate the total column ozone over the 31 day reanalysis period"
   ]
  },
  {
   "cell_type": "markdown",
   "metadata": {},
   "source": [
    "The animation function consists of 4 parts:\n",
    "- **Setting the initial state:**<br>\n",
    " Here, you define the general plot your animation shall use to initialise the animation. You can also define the number of frames (time steps) your animation shall have.\n",
    " \n",
    " \n",
    "- **Functions to animate:**<br>\n",
    " An animation consists of three functions: `draw()`, `init()` and `animate()`. `draw()` is the function where individual frames are passed on and the figure is returned as image. In this example, the function redraws the plot for each time step. `init()` returns the figure you have defined for the initial state. `animate()` returns the `draw()` function and animates the function over the given number of frames (time steps).\n",
    " \n",
    " \n",
    "- **Create a `animate.FuncAnimation` object:** <br>\n",
    " The functions defined before are now combined to build an `animate.FuncAnimation` object.\n",
    " \n",
    " \n",
    "- **Play the animation as video:**<br>\n",
    " As a final step, you can integrate the animation into the notebook with the `HTML` class. You take the generated `animate.FuncAnimation` object and convert it to a HTML5 video with the function `to_html5_video`."
   ]
  },
  {
   "cell_type": "code",
   "execution_count": null,
   "metadata": {},
   "outputs": [],
   "source": [
    "# Setting the initial state:\n",
    "# 1. Define figure for initial plot\n",
    "fig, ax = visualize_pcolormesh(data_array=cams_o3_du[0,:,:],\n",
    "                               longitude=cams_o3_du.longitude, \n",
    "                               latitude=cams_o3_du.latitude,\n",
    "                               projection=ccrs.Orthographic(0,90), \n",
    "                               color_scale='jet', \n",
    "                               unit='DU',\n",
    "                               long_name=cams_o3.long_name + ' '+ str(cams_o3_du.time[0].data), \n",
    "                               vmin=150,\n",
    "                               vmax=500)\n",
    "\n",
    "frames = 62\n",
    "\n",
    "def draw(i):\n",
    "    img = plt.pcolormesh(cams_o3_du.longitude, \n",
    "                         cams_o3_du.latitude, \n",
    "                         cams_o3_du[i,:,:], \n",
    "                         cmap='jet', \n",
    "                         transform=ccrs.PlateCarree(),\n",
    "                         vmin=150,\n",
    "                         vmax=500)\n",
    "    \n",
    "    ax.set_title(cams_o3.long_name + ' '+ str(cams_o3_du.time[i].data), fontsize=20, pad=20.0)\n",
    "    return img\n",
    "\n",
    "\n",
    "def init():\n",
    "    return fig\n",
    "\n",
    "\n",
    "def animate(i):\n",
    "    return draw(i)\n",
    "\n",
    "ani = animation.FuncAnimation(fig, animate, frames, interval=800, blit=False,\n",
    "                              init_func=init, repeat=True)\n",
    "\n",
    "HTML(ani.to_html5_video())\n",
    "plt.close(fig)\n"
   ]
  },
  {
   "cell_type": "markdown",
   "metadata": {},
   "source": [
    "<br>"
   ]
  },
  {
   "cell_type": "markdown",
   "metadata": {},
   "source": [
    "#### Play the animation as HTML5 video"
   ]
  },
  {
   "cell_type": "code",
   "execution_count": null,
   "metadata": {},
   "outputs": [],
   "source": [
    "HTML(ani.to_html5_video())"
   ]
  },
  {
   "cell_type": "markdown",
   "metadata": {},
   "source": [
    "<br>"
   ]
  },
  {
   "cell_type": "markdown",
   "metadata": {},
   "source": [
    "<a href=\"./00_index.ipynb\"><< Index</a><br>\n",
    "<a href=\"./10_cams_eac4_retrieve.ipynb\"><< 10 - CAMS EAC4 - Retrieve</a>"
   ]
  },
  {
   "cell_type": "markdown",
   "metadata": {},
   "source": [
    "<hr>"
   ]
  },
  {
   "cell_type": "markdown",
   "metadata": {
    "Collapsed": "false"
   },
   "source": [
    "<p><img src='./img/all_partners_wekeo.png' align='left' alt='Logo EU Copernicus' width='100%'></img><p>"
   ]
  }
 ],
 "metadata": {
  "kernelspec": {
   "display_name": "Python 3 (ipykernel)",
   "language": "python",
   "name": "python3"
  },
  "language_info": {
   "codemirror_mode": {
    "name": "ipython",
    "version": 3
   },
   "file_extension": ".py",
   "mimetype": "text/x-python",
   "name": "python",
   "nbconvert_exporter": "python",
   "pygments_lexer": "ipython3",
   "version": "3.8.6"
  }
 },
 "nbformat": 4,
 "nbformat_minor": 4
}

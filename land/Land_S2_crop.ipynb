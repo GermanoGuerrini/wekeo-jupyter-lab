{
 "cells": [
  {
   "cell_type": "markdown",
   "metadata": {},
   "source": [
    "<img src='./img/LogoWekeo_Copernicus_RGB_0.png' align='right' width='20%'></img>"
   ]
  },
  {
   "cell_type": "markdown",
   "metadata": {},
   "source": [
    "# Example data processing for crop mapping"
   ]
  },
  {
   "cell_type": "markdown",
   "metadata": {},
   "source": [
    "In this tutorial we will use the WEkEO Jupyterhub to access and analyse data from the Copernicus Sentinel-2.\n",
    "A region in northern Corsica has been selected as as a common test site across the land training as it contains representative landscape features and process elements which can be used to demonstrate the capabilities and strengths of Copernicus space component and services.\n",
    "The tutorial comprises the following steps:\n",
    "1. Search and download data: We will select and download a Sentinel-2 scene and the CLMS CORINE Land Cover (CLC) data from their original archive locations via WEkEO using the Harmonised Data Access (HAD) API.\n",
    "2.\t[Read and view Sentinel-2 data](#load_sentinel2): Once downloaded, we will read and view the Sentinel-2 data in geographic coordinates as true colour image and other formats.\n",
    "3.\t[Process and view Sentinel-2 data as a vegetation index](#sentinel2_ndvi): We will see how the vegetation density and health can be assessed from optical EO data to support crop and landscape management practices.\n",
    "\n",
    "NOTE - This Jupyter Notebook contains a subset if the additonal processing added to demonstrate further functionality during the land training debrief.\n",
    "\n",
    "<img src='./img/CropBanner.jpg' align='center' width='100%'></img>"
   ]
  },
  {
   "cell_type": "markdown",
   "metadata": {},
   "source": [
    "## <a id='load_sentinel2'></a>2. Load required Sentinel-2 bands and True Color image at 10 m spatial resolution"
   ]
  },
  {
   "cell_type": "markdown",
   "metadata": {},
   "source": [
    "Before we begin we must prepare our environment. This includes importing the various python libraries that we will need."
   ]
  },
  {
   "cell_type": "markdown",
   "metadata": {},
   "source": [
    "### Load required libraries"
   ]
  },
  {
   "cell_type": "code",
   "execution_count": null,
   "metadata": {},
   "outputs": [],
   "source": [
    "import os\n",
    "import rasterio as rio\n",
    "from rasterio import plot\n",
    "from rasterio.mask import mask\n",
    "from rasterio.plot import show_hist\n",
    "import matplotlib.pyplot as plt\n",
    "import geopandas as gpd\n",
    "from rasterio.plot import show\n",
    "from rasterio.plot import plotting_extent\n",
    "import zipfile\n",
    "from matplotlib import rcParams\n",
    "from pathlib import Path\n",
    "import numpy as np\n",
    "from matplotlib.colors import ListedColormap\n",
    "from matplotlib import cm\n",
    "from matplotlib import colors\n",
    "import warnings\n",
    "warnings.filterwarnings('ignore')\n",
    "from IPython.core.display import HTML\n",
    "from rasterio.warp import calculate_default_transform, reproject, Resampling"
   ]
  },
  {
   "cell_type": "markdown",
   "metadata": {},
   "source": [
    "The Sentinel-2 Multiple Spectral Imager (MSI) records 13 spectral bands across the visible and infrared portions of the electromagnetic spectrum at different spatial resolutions from 10 m to 60 m depending on their operation and use. There are currently two Sentinel-2 satellites in suitably phased orbits to give a revisit period of 5 days at the Equator and 2-3 days at European latitudes. Being an optical sensor they are of course also affected by cloud cover and illumination conditions. The two satellites have been fully operational since 2017 and record continuously over land and the adjacent coastal sea areas. Their specification represents a continuation and upgrade of the US Landsat system which has archive data stretching back to the mid 1980s.\n",
    "\n",
    "<img src='./img/S2_band_comp.png' align='center' width='50%'></img>\n",
    "\n",
    "For this training session we will use the 20 m spatial resolution data as we wish to exploit one of the SWIR bands. The 20 m spatial resultion data can be sharpened to 10 m with additional processing. We therefore load a composite true colour image (made up of the blue, green and red bands) and the individual bands for green (600 nm), red (665 nm), near infrared (833 nm) and shortwave infrared (1612 nm). The cell below loads the required data."
   ]
  },
  {
   "cell_type": "markdown",
   "metadata": {},
   "source": [
    "Also the Sentinel-2 Multiple Spectral Imager (MSI) data could be not available on the machine. In this case there is the method to download them to [Land Sentinel-2 CLC Download](./Land_S2_CLC_download.ipynb)."
   ]
  },
  {
   "cell_type": "code",
   "execution_count": null,
   "metadata": {},
   "outputs": [],
   "source": [
    "#Download folder\n",
    "download_dir_path = os.path.join(os.getcwd(), './')\n",
    "data_path = os.path.join(os.getcwd(), './')\n",
    "\n",
    "R20 =  os.path.join(download_dir_path, 'S2A_MSIL2A_20170802T101031_N0205_R022_T32TNN_20170802T101051.SAFE/GRANULE/L2A_T32TNN_A011030_20170802T101051/IMG_DATA/R20m') #20 meters resolution folder\n",
    "TCI =  rio.open(R20+'/L2A_T32TNN_20170802T101031_TCI_20m.jp2') #true color"
   ]
  },
  {
   "cell_type": "markdown",
   "metadata": {},
   "source": [
    "### Display True Color to check the correct data is downloaded"
   ]
  },
  {
   "cell_type": "markdown",
   "metadata": {},
   "source": [
    "The true colour image for the Sentinel-2 data downloaded in the previous JN can be displayed as a plot to show we have the required area and assess other aspects such as the presence of cloud, cloud shadow, etc. \n",
    "\n",
    "In this case we selected region of northern Corsica showing the area around Bastia and the Tyrrhenian Sea out to the Italian island of Elba in the east. The area has typical Mediterranean vegetation with mountainous semi natural habitats and urban and agricultural areas along the coasts.\n",
    "\n",
    "The cell below displays the true colour image in its native WGS-84 coordinate reference system."
   ]
  },
  {
   "cell_type": "code",
   "execution_count": null,
   "metadata": {},
   "outputs": [],
   "source": [
    "fig, (ax) = plt.subplots(1,1, figsize=(13,13))\n",
    "show(TCI.read(), ax=ax, transform=TCI.transform,  title = \"TRUE COLOR\")\n",
    "ax.set_ylabel(\"Northing (m)\") # (WGS 84 / UTM zone 32N)\n",
    "ax.set_xlabel(\"Easting (m)\")\n",
    "ax.ticklabel_format(axis = 'both', style = 'plain')"
   ]
  },
  {
   "cell_type": "markdown",
   "metadata": {},
   "source": [
    "### Open Vector Data"
   ]
  },
  {
   "cell_type": "code",
   "execution_count": null,
   "metadata": {},
   "outputs": [],
   "source": [
    "path_shp  = os.path.join(os.getcwd(), 'shp')\n",
    "crop = gpd.read_file(os.path.join(path_shp, 'CropMap-aoi.shp'))"
   ]
  },
  {
   "cell_type": "markdown",
   "metadata": {},
   "source": [
    "### Check CRS of Vector Data"
   ]
  },
  {
   "cell_type": "markdown",
   "metadata": {},
   "source": [
    "Before we can use the vector data we must check the coordinate reference system (CRS) and then transpose them to the same CRS as the Sentinel-2 data. In this case we require all the data to be in the WGS 84 / UTM zone 32N CRS with the EPSG code of 32632."
   ]
  },
  {
   "cell_type": "code",
   "execution_count": null,
   "metadata": {},
   "outputs": [],
   "source": [
    "print(crop.crs)"
   ]
  },
  {
   "cell_type": "markdown",
   "metadata": {},
   "source": [
    "### Open and crop the required Sentinel-2 bands"
   ]
  },
  {
   "cell_type": "markdown",
   "metadata": {},
   "source": [
    "The required Sentinel-2 bands are then cropped using the AOI geometry. "
   ]
  },
  {
   "cell_type": "code",
   "execution_count": null,
   "metadata": {},
   "outputs": [],
   "source": [
    "with rio.open(R20+'/L2A_T32TNN_20170802T101031_TCI_20m.jp2') as src: # true colour\n",
    "    out_image, out_transform = mask(src, crop.geometry,crop=True)\n",
    "    out_meta = src.meta.copy()\n",
    "    out_meta.update({\"driver\": \"GTiff\",\n",
    "                 \"height\": out_image.shape[1],\n",
    "                 \"width\": out_image.shape[2],\n",
    "                 \"transform\": out_transform}) \n",
    "with rio.open(os.path.join(data_path, \"S2_20m_TCI_masked.tif\"), \"w\", **out_meta) as dest:\n",
    "    dest.write(out_image)   \n",
    "    \n",
    "with rio.open(R20+'/L2A_T32TNN_20170802T101031_B03_20m.jp2') as src: # green\n",
    "    out_image, out_transform = mask(src, crop.geometry,crop=True)\n",
    "    out_meta = src.meta.copy()\n",
    "    out_meta.update({\"driver\": \"GTiff\",\n",
    "                 \"height\": out_image.shape[1],\n",
    "                 \"width\": out_image.shape[2],\n",
    "                 \"transform\": out_transform})\n",
    "with rio.open(os.path.join(data_path, \"S2_20m_B03_masked.tif\"), \"w\", **out_meta) as dest:\n",
    "    dest.write(out_image)   \n",
    "    \n",
    "with rio.open(R20+'/L2A_T32TNN_20170802T101031_B04_20m.jp2') as src: # red\n",
    "    out_image, out_transform = mask(src, crop.geometry,crop=True)\n",
    "    out_meta = src.meta.copy()\n",
    "    out_meta.update({\"driver\": \"GTiff\",\n",
    "                 \"height\": out_image.shape[1],\n",
    "                 \"width\": out_image.shape[2],\n",
    "                 \"transform\": out_transform})\n",
    "with rio.open(os.path.join(data_path, \"S2_20m_B04_masked.tif\"), \"w\", **out_meta) as dest:\n",
    "    dest.write(out_image)   \n",
    "    \n",
    "with rio.open(R20+'/L2A_T32TNN_20170802T101031_B8A_20m.jp2') as src: # near infrared\n",
    "    out_image, out_transform = mask(src, crop.geometry,crop=True)\n",
    "    out_meta = src.meta.copy()\n",
    "    out_meta.update({\"driver\": \"GTiff\",\n",
    "                 \"height\": out_image.shape[1],\n",
    "                 \"width\": out_image.shape[2],\n",
    "                 \"transform\": out_transform})\n",
    "with rio.open(os.path.join(data_path, \"S2_20m_B8A_masked.tif\"), \"w\", **out_meta) as dest:\n",
    "    dest.write(out_image)  \n",
    "    \n",
    "with rio.open(R20+'/L2A_T32TNN_20170802T101031_B11_20m.jp2') as src: # shortwave infrared\n",
    "    out_image, out_transform = mask(src, crop.geometry,crop=True)\n",
    "    out_meta = src.meta.copy()\n",
    "    out_meta.update({\"driver\": \"GTiff\",\n",
    "                 \"height\": out_image.shape[1],\n",
    "                 \"width\": out_image.shape[2],\n",
    "                 \"transform\": out_transform})\n",
    "with rio.open(os.path.join(data_path, \"S2_20m_B11_masked.tif\"), \"w\", **out_meta) as dest:\n",
    "    dest.write(out_image)  "
   ]
  },
  {
   "cell_type": "markdown",
   "metadata": {},
   "source": [
    "### Display True Color, False Colour Infrared and Shortwave Infrared Composite images"
   ]
  },
  {
   "cell_type": "markdown",
   "metadata": {},
   "source": [
    "The true colour image are one of the common formats for displaying optical EO data such as for the Sentinel-2. However, other formats show different characterisitics of the sufrace. The centre plot shows the same image in false colour infrared (FCIR) format. In this format the green band is displayed as blue, red as green and near infrared as red. Vegetated areas appear red and water is black. The right hand plot shows the same image as a shortwave infrared composite displaying near infrared as red, shortwave infrared as green and red as blue. \n",
    "\n",
    "The cell below displays the true colour image in its native WGS-84 coordinate reference system."
   ]
  },
  {
   "cell_type": "code",
   "execution_count": null,
   "metadata": {},
   "outputs": [],
   "source": [
    "b3 = rio.open(os.path.join(data_path, \"S2_20m_B03_masked.tif\")) # green\n",
    "b4 = rio.open(os.path.join(data_path, \"S2_20m_B04_masked.tif\")) # red\n",
    "b8a = rio.open(os.path.join(data_path, \"S2_20m_B8A_masked.tif\")) # near infrared \n",
    "b11 = rio.open(os.path.join(data_path, \"S2_20m_B11_masked.tif\")) # shortwave infrared \n",
    "TCI = rio.open(os.path.join(data_path, \"S2_20m_TCI_masked.tif\")) # true color\n",
    "\n",
    "fig, (ax, ay, az) = plt.subplots(1,3, figsize=(21,7))\n",
    "show(TCI.read(), ax=ax, transform=TCI.transform,  title = \"TRUE COLOR\")\n",
    "ax.set_ylabel(\"Northing (m)\") # (WGS 84 / UTM zone 32N)\n",
    "ax.set_xlabel(\"Easting (m)\")\n",
    "ax.ticklabel_format(axis = 'both', style = 'plain')\n",
    "\n",
    "# Function to normalize false colour infrared image \n",
    "def normalize(array):\n",
    "    \"\"\"Normalizes numpy arrays into scale 0.0 - 1.0\"\"\"\n",
    "    array_min, array_max = array.min(), array.max() \n",
    "    return ((array - array_min)/(array_max - array_min))\n",
    "\n",
    "nir = b8a.read(1)\n",
    "red = b4.read(1)\n",
    "green = b3.read(1)\n",
    "nirn = normalize(nir)\n",
    "redn = normalize(red)\n",
    "greenn = normalize(green)\n",
    "FCIR = np.dstack((nirn, redn, greenn))\n",
    "FCIR = np.moveaxis(FCIR.squeeze(),-1,0)\n",
    "show(FCIR, ax=ay, transform=TCI.transform, title = \"FALSE COLOR INFRARED\")\n",
    "ay.set_ylabel(\"Northing (m)\") # (WGS 84 / UTM zone 32N)\n",
    "ay.set_xlabel(\"Easting (m)\")\n",
    "ay.ticklabel_format(axis = 'both', style = 'plain')\n",
    "\n",
    "sw = b11.read(1)\n",
    "swn = normalize(sw)\n",
    "SWIR = np.dstack((nirn, swn, redn))\n",
    "SWIR = np.moveaxis(SWIR.squeeze(),-1,0)\n",
    "show(SWIR, ax=az, transform=TCI.transform, title = \"SHORTWAVE INFRARED\")\n",
    "az.set_ylabel(\"Northing (m)\") # (WGS 84 / UTM zone 32N)\n",
    "az.set_xlabel(\"Easting (m)\")\n",
    "az.ticklabel_format(axis = 'both', style = 'plain')"
   ]
  },
  {
   "cell_type": "markdown",
   "metadata": {},
   "source": [
    "## <a id='sentinel2_ndvi'></a>3. Process and view Sentinel-2 data as a vegetation index"
   ]
  },
  {
   "cell_type": "markdown",
   "metadata": {},
   "source": [
    "Vegetation status is a combination of a number of properties of the vegetation related to growth, density, health and environmental factors. By making measurements of surface reflectance in the red and near infrared (NIR) parts of the spectrum optical instruments can summarise crop status through a vegetation index. The red region is related to chlorophyll absorption and the NIR is related to multiple scattering within leaf structures, therefore low red and high NIR represent healthy / dense vegetation. These values are summarised in the commonly used Normalised Difference Vegetation Index (NDVI).\n",
    "\n",
    "<img src='./img/ndvi.jpg' align='center' width='40%'></img>"
   ]
  },
  {
   "cell_type": "markdown",
   "metadata": {},
   "source": [
    "### Calculate NDVI from red and near infrared bands"
   ]
  },
  {
   "cell_type": "markdown",
   "metadata": {},
   "source": [
    "First step is to calculate the NDVI for the whole image using some straightforward band maths and write out the result to a geoTIFF file."
   ]
  },
  {
   "cell_type": "code",
   "execution_count": null,
   "metadata": {},
   "outputs": [],
   "source": [
    "nir = b8a.read(1)\n",
    "red = b4.read(1)\n",
    "\n",
    "ndvi = (nir.astype(float)-red.astype(float))/(nir+red)\n",
    "meta = b4.meta \n",
    "meta.update(driver='GTiff')\n",
    "meta.update(dtype=rio.float64)\n",
    "with rio.open(os.path.join(data_path, 'S2_NDVICrop_masked.tif'), 'w', **meta) as dst:\n",
    "    dst.write(ndvi,1)"
   ]
  },
  {
   "cell_type": "markdown",
   "metadata": {},
   "source": [
    "### Display NDVI "
   ]
  },
  {
   "cell_type": "markdown",
   "metadata": {},
   "source": [
    "The AOI represents an agricultural area of northern Corsica just to the south of the Airport of Bastia Poretta. These lowlands have been cleared for agriculture shown by a fine scale mosaic of regular geometric features representing crop fields with diffrerent NDVIs or the presence of vegetated boundary features. The lower values of NDVI (close to zero) are associated with bare fields, sealed surfaces and water.\n",
    "\n",
    "The colour map used to display the NDVI uses a ramp from blue to green to emphasise the increasing density and vigour of vegetation at high NDVI values. If distinction are not so clear the cmap value can be change from \"BuGn\" or \"RdBu\" to something more appropriate with reference to the the available colour maps at [Choosing Colormaps in Matplotlib](https://matplotlib.org/3.1.0/tutorials/colors/colormaps.html)."
   ]
  },
  {
   "cell_type": "code",
   "execution_count": null,
   "metadata": {},
   "outputs": [],
   "source": [
    "#S2_NDVI_masked\n",
    "ndvi_aoi = rio.open(os.path.join(data_path, 'S2_NDVICrop_masked.tif'))\n",
    "\n",
    "fig, (az) = plt.subplots(1,1, figsize=(21, 7))\n",
    "\n",
    "# use imshow so that we have something to map the colorbar to\n",
    "image_hidden_1 = az.imshow(ndvi_aoi.read(1), \n",
    "                         cmap='BuGn')\n",
    "\n",
    "image = show(ndvi_aoi, ax=az, cmap='BuGn', transform=ndvi_aoi.transform, title =\"NDVI\")\n",
    "\n",
    "fig.colorbar(image_hidden_1, ax=az)\n",
    "az.set_ylabel(\"Northing (m)\") #(WGS 84 / UTM zone 32N)\n",
    "az.set_xlabel(\"Easting (m)\")\n",
    "az.ticklabel_format(axis = 'both', style = 'plain')"
   ]
  },
  {
   "cell_type": "markdown",
   "metadata": {},
   "source": [
    "### Histogram of NDVI values"
   ]
  },
  {
   "cell_type": "markdown",
   "metadata": {},
   "source": [
    "If the NDVI values for the area are summarised as a histogram with a broad range of vegetation density / vigour apprent. On the left of the plot there are the water and unvegetated areas together due to their low NDVI and then moving to the right the broad peak from an NDVI value of 0.3 to 0.8 related to different levels of crop vigour. "
   ]
  },
  {
   "cell_type": "code",
   "execution_count": null,
   "metadata": {},
   "outputs": [],
   "source": [
    "fig, axhist = plt.subplots(1,1)\n",
    "show_hist(ndvi_aoi, bins=100, masked=False, title='Histogram of NDVI values', facecolor = 'g', ax =axhist)\n",
    "axhist.set_xlabel('NDVI')\n",
    "axhist.set_ylabel('number of pixels')\n",
    "plt.gca().get_legend().remove()"
   ]
  },
  {
   "cell_type": "markdown",
   "metadata": {},
   "source": [
    "<hr>"
   ]
  },
  {
   "cell_type": "markdown",
   "metadata": {},
   "source": [
    "<p><img src='./img/all_partners_wekeo_2.png' align='left' alt='Logo EU Copernicus' width='100%'></img></p>"
   ]
  }
 ],
 "metadata": {
  "kernelspec": {
   "display_name": "Python 3 (ipykernel)",
   "language": "python",
   "name": "python3"
  },
  "language_info": {
   "codemirror_mode": {
    "name": "ipython",
    "version": 3
   },
   "file_extension": ".py",
   "mimetype": "text/x-python",
   "name": "python",
   "nbconvert_exporter": "python",
   "pygments_lexer": "ipython3",
   "version": "3.8.6"
  }
 },
 "nbformat": 4,
 "nbformat_minor": 4
}

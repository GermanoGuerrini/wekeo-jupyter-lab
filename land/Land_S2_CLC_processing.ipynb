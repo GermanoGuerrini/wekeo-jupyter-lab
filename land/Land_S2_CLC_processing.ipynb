{
 "cells": [
  {
   "cell_type": "markdown",
   "metadata": {},
   "source": [
    "<img src='./img/LogoWekeo_Copernicus_RGB_0.png' align='right' width='20%'></img>"
   ]
  },
  {
   "cell_type": "markdown",
   "metadata": {},
   "source": [
    "# Tutorial on basic land applications (data processing) Version 2"
   ]
  },
  {
   "cell_type": "markdown",
   "metadata": {},
   "source": [
    "In this tutorial we will use the WEkEO Jupyterhub to access and analyse data from the Copernicus Sentinel-2 and products from the [Copernicus Land Monitoring Service (CLMS)](https://land.copernicus.eu/). \n",
    "A region in northern Corsica has been selected as it contains representative landscape features and process elements which can be used to demonstrate the capabilities and strengths of Copernicus space component and services.\n",
    "The tutorial comprises the following steps:\n",
    "1. Search and download data: We will select and download a Sentinel-2 scene and the CLMS CORINE Land Cover (CLC) data from their original archive locations via WEkEO using the Harmonised Data Access (HAD) API.\n",
    "2.\t[Read and view Sentinel-2 data](#load_sentinel2): Once downloaded, we will read and view the Sentinel-2 data in geographic coordinates as true colour image.\n",
    "3.\t[Process and view Sentinel-2 data as a vegetation and other spectral indices](#sentinel2_ndvi): We will see how the vegetation density and health can be assessed from optical EO data to support crop and landscape management practices.\n",
    "4.\t[Read and view the CLC data](#display_clc): Display the thematic CLC data with the correct legend.\n",
    "5.\t[CLC2018 burnt area in the Sentinel-2 NDVI data](#CLC_burn_NDVI): The two products give different results, but they can be combined to provide more information.\n",
    "\n",
    "NOTE - This Jupyter Notebook contains additonal processing to demonstrate further functionality during the training debrief.\n",
    "\n",
    "<img src='./img/Intro_banner.jpg' align='center' width='100%'></img>"
   ]
  },
  {
   "cell_type": "markdown",
   "metadata": {},
   "source": [
    "## <a id='load_sentinel2'></a>2. Load required Sentinel-2 bands and True Color image at 10 m spatial resolution"
   ]
  },
  {
   "cell_type": "markdown",
   "metadata": {},
   "source": [
    "Before we begin we must prepare our environment. This includes importing the various python libraries that we will need."
   ]
  },
  {
   "cell_type": "markdown",
   "metadata": {},
   "source": [
    "### Load required libraries"
   ]
  },
  {
   "cell_type": "code",
   "execution_count": null,
   "metadata": {},
   "outputs": [],
   "source": [
    "import os\n",
    "import rasterio as rio\n",
    "from rasterio import plot\n",
    "from rasterio.mask import mask\n",
    "from rasterio.plot import show_hist\n",
    "import matplotlib.pyplot as plt\n",
    "import geopandas as gpd\n",
    "from rasterio.plot import show\n",
    "from rasterio.plot import plotting_extent\n",
    "import zipfile\n",
    "from matplotlib import rcParams\n",
    "from pathlib import Path\n",
    "import numpy as np\n",
    "from matplotlib.colors import ListedColormap\n",
    "from matplotlib import cm\n",
    "from matplotlib import colors\n",
    "import warnings\n",
    "warnings.filterwarnings('ignore')\n",
    "from IPython.core.display import HTML\n",
    "from rasterio.warp import calculate_default_transform, reproject, Resampling\n",
    "\n",
    "\n"
   ]
  },
  {
   "cell_type": "markdown",
   "metadata": {},
   "source": [
    "The Sentinel-2 Multiple Spectral Imager (MSI) records 13 spectral bands across the visible and infrared portions of the electromagnetic spectrum at different spatial resolutions from 10 m to 60 m depending on their operation and use. There are currently two Sentinel-2 satellites in suitably phased orbits to give a revisit period of 5 days at the Equator and 2-3 days at European latitudes. Being an optical sensor they are of course also affected by cloud cover and illumination conditions. The two satellites have been fully operational since 2017 and record continuously over land and the adjacent coastal sea areas. Their specification represents a continuation and upgrade of the US Landsat system which has archive data stretching back to the mid 1980s.\n",
    "\n",
    "<img src='./img/S2_band_comp.png' align='center' width='50%'></img>\n",
    "\n",
    "For this training session we will only need a composite true colour image (made up of the blue green and red bands) and the individual bands for red (665 nm) and near infrared (833 nm). The cell below loads the required data."
   ]
  },
  {
   "cell_type": "markdown",
   "metadata": {},
   "source": [
    "Also the Sentinel-2 Multiple Spectral Imager (MSI) data could be not available on the machine. In this case there is the method to download them to [Land Sentinel-2 CLC Download](./Land_S2_CLC_download.ipynb)."
   ]
  },
  {
   "cell_type": "code",
   "execution_count": null,
   "metadata": {},
   "outputs": [],
   "source": [
    "#Download folder\n",
    "download_dir_path = os.path.join(os.getcwd(), './')\n",
    "data_path = os.path.join(os.getcwd(), './')\n",
    "\n",
    "R10 =  os.path.join(download_dir_path, 'S2A_MSIL2A_20170802T101031_N0205_R022_T32TNN_20170802T101051.SAFE/GRANULE/L2A_T32TNN_A011030_20170802T101051/IMG_DATA/R10m') #10 meters resolution folder\n",
    "b3 = rio.open(R10+'/L2A_T32TNN_20170802T101031_B03_10m.jp2') #green\n",
    "b4 = rio.open(R10+'/L2A_T32TNN_20170802T101031_B04_10m.jp2') #red\n",
    "b8 = rio.open(R10+'/L2A_T32TNN_20170802T101031_B08_10m.jp2') #near infrared \n",
    "TCI =  rio.open(R10+'/L2A_T32TNN_20170802T101031_TCI_10m.jp2') #true color"
   ]
  },
  {
   "cell_type": "markdown",
   "metadata": {},
   "source": [
    "### Display True Color and False Colour Infrared images"
   ]
  },
  {
   "cell_type": "markdown",
   "metadata": {},
   "source": [
    "The true colour image for the Sentinel-2 data downloaded in the previous JN can be displayed as a plot to show we have the required area and assess other aspects such as the presence of cloud, cloud shadow, etc. \n",
    "\n",
    "In this case we selected region of northern Corsica showing the area around Bastia and the Tyrrhenian Sea out to the Italian island of Elba in the east. The area has typical Mediterranean vegetation with mountainous semi natural habitats and urban and agricultural areas along the coasts.\n",
    "\n",
    "The cell below displays the true colour image in its native WGS-84 coordinate reference system.\n",
    "\n",
    "The right hand plot shows the same image in false colour infrared format (FCIR). In this format the green band is displayed as blue, red as green and near infrared as red. Vegetated areas appear red and water is black."
   ]
  },
  {
   "cell_type": "code",
   "execution_count": null,
   "metadata": {},
   "outputs": [],
   "source": [
    "fig, (ax, ay) = plt.subplots(1,2, figsize=(21,7))\n",
    "show(TCI.read(), ax=ax, transform=TCI.transform,  title = \"TRUE COLOR\")\n",
    "ax.set_ylabel(\"Northing (m)\") # (WGS 84 / UTM zone 32N)\n",
    "ax.set_xlabel(\"Easting (m)\")\n",
    "ax.ticklabel_format(axis = 'both', style = 'plain')\n",
    "\n",
    "\n",
    "# Function to normalize false colour infrared image \n",
    "def normalize(array):\n",
    "    \"\"\"Normalizes numpy arrays into scale 0.0 - 1.0\"\"\"\n",
    "    array_min, array_max = array.min(), array.max() \n",
    "    return ((array - array_min)/(array_max - array_min))\n",
    "\n",
    "nir = b8.read(1)\n",
    "red = b4.read(1)\n",
    "green = b3.read(1)\n",
    "nirn = normalize(nir)\n",
    "redn = normalize(red)\n",
    "greenn = normalize(green)\n",
    "FCIR = np.dstack((nirn, redn, greenn))\n",
    "FCIR = np.moveaxis(FCIR.squeeze(),-1,0)\n",
    "show(FCIR, ax=ay, transform=TCI.transform, title = \"FALSE COLOR INFRARED\")\n",
    "ay.set_ylabel(\"Northing (m)\") # (WGS 84 / UTM zone 32N)\n",
    "ay.set_xlabel(\"Easting (m)\")\n",
    "ay.ticklabel_format(axis = 'both', style = 'plain')"
   ]
  },
  {
   "cell_type": "markdown",
   "metadata": {},
   "source": [
    "## <a id='sentinel2_ndvi'></a>3. Process and view Sentinel-2 data as vegetation and other spectral indices"
   ]
  },
  {
   "cell_type": "markdown",
   "metadata": {},
   "source": [
    "Vegetation status is a combination of a number of properties of the vegetation related to growth, density, health and environmental factors. By making measurements of surface reflectance in the red and near infrared (NIR) parts of the spectrum optical instruments can summarise crop status through a vegetation index. The red region is related to chlorophyll absorption and the NIR is related to multiple scattering within leaf structures, therefore low red and high NIR represent healthy / dense vegetation. These values are summarised in the commonly used Normalised Difference Vegetation Index (NDVI).\n",
    "\n",
    "<img src='./img/Indices.jpg' align='center' width='80%'></img>\n",
    "\n",
    "We will examine a small subset of the full image were we know differences in vegetation will be present due to natural and anthropogenic processes and calculate the NDVI to show how its value changes. \n",
    "\n",
    "We will also calculate a second spectral index, the Normalised Difference Water Index (NDWI), which emphasises water surfaces to compare to NDVI.\n",
    "\n",
    "To do this we'll first load some vector datasets for an area of interest (AOI) and some field boundaries."
   ]
  },
  {
   "cell_type": "markdown",
   "metadata": {},
   "source": [
    "### Open Vector Data"
   ]
  },
  {
   "cell_type": "code",
   "execution_count": null,
   "metadata": {},
   "outputs": [],
   "source": [
    "path_shp  = os.path.join(os.getcwd(), 'shp')\n",
    "aoi = gpd.read_file(os.path.join(path_shp, 'WEkEO-Land-AOI-201223.shp'))\n",
    "LPSI = gpd.read_file(os.path.join(path_shp, 'LPIS-AOI-201223.shp'))"
   ]
  },
  {
   "cell_type": "markdown",
   "metadata": {},
   "source": [
    "### Check CRS of Vector Data"
   ]
  },
  {
   "cell_type": "markdown",
   "metadata": {},
   "source": [
    "Before we can use the vector data we must check the coordinate reference system (CRS) and then transpose them to the same CRS as the Sentinel-2 data. In this case we require all the data to be in the WGS 84 / UTM zone 32N CRS with the EPSG code of 32632."
   ]
  },
  {
   "cell_type": "code",
   "execution_count": null,
   "metadata": {},
   "outputs": [],
   "source": [
    "print(aoi.crs)\n",
    "print(LPSI.crs)\n",
    "aoi_proj = aoi.to_crs(epsg=32632) #convert to WGS 84 / UTM zone 32N (Sentinel-2 crs)\n",
    "LPIS_proj = LPSI.to_crs(epsg=32632)\n",
    "print(\"conversion to S2 NDVI crs:\")\n",
    "print(aoi_proj.crs)\n",
    "print(LPIS_proj.crs)"
   ]
  },
  {
   "cell_type": "markdown",
   "metadata": {},
   "source": [
    "### Calculate NDVI from red and near infrared bands"
   ]
  },
  {
   "cell_type": "markdown",
   "metadata": {},
   "source": [
    "First step is to calculate the NDVI for the whole image using some straightforward band maths and write out the result to a geoTIFF file."
   ]
  },
  {
   "cell_type": "code",
   "execution_count": null,
   "metadata": {},
   "outputs": [],
   "source": [
    "nir = b8.read()\n",
    "red = b4.read()\n",
    "ndvi = (nir.astype(float)-red.astype(float))/(nir+red)\n",
    "\n",
    "meta = b4.meta \n",
    "meta.update(driver='GTiff')\n",
    "meta.update(dtype=rio.float32)\n",
    "with rio.open(os.path.join(data_path, 'S2_NDVI.tif'), 'w', **meta) as dst:\n",
    "    dst.write(ndvi.astype(rio.float32))"
   ]
  },
  {
   "cell_type": "markdown",
   "metadata": {},
   "source": [
    "### Calculate NDWI from green and near infrared bands"
   ]
  },
  {
   "cell_type": "markdown",
   "metadata": {},
   "source": [
    "The new step is to calculate the NDWI for the whole image using some straightforward band maths and write out the result to a geoTIFF file."
   ]
  },
  {
   "cell_type": "code",
   "execution_count": null,
   "metadata": {},
   "outputs": [],
   "source": [
    "nir = b8.read()\n",
    "green = b3.read()\n",
    "ndwi = (green.astype(float) - nir.astype(float))/(nir+green)\n",
    "\n",
    "meta = b3.meta \n",
    "meta.update(driver='GTiff')\n",
    "meta.update(dtype=rio.float32)\n",
    "with rio.open(os.path.join(data_path, 'S2_NDWI.tif'), 'w', **meta) as dst:\n",
    "    dst.write(ndwi.astype(rio.float32))"
   ]
  },
  {
   "cell_type": "markdown",
   "metadata": {},
   "source": [
    "### Crop the extent of the NDVI and NDWI images to the AOI"
   ]
  },
  {
   "cell_type": "markdown",
   "metadata": {},
   "source": [
    "The file produced in the previous step is then cropped using the AOI geometry. "
   ]
  },
  {
   "cell_type": "code",
   "execution_count": null,
   "metadata": {},
   "outputs": [],
   "source": [
    "with rio.open(os.path.join(data_path, \"S2_NDVI.tif\")) as src:\n",
    "    out_image, out_transform = mask(src, aoi_proj.geometry,crop=True)\n",
    "    out_meta = src.meta.copy()\n",
    "    out_meta.update({\"driver\": \"GTiff\",\n",
    "                 \"height\": out_image.shape[1],\n",
    "                 \"width\": out_image.shape[2],\n",
    "                 \"transform\": out_transform})\n",
    "    \n",
    "with rio.open(os.path.join(data_path, \"S2_NDVI_masked.tif\"), \"w\", **out_meta) as dest:\n",
    "    dest.write(out_image)   \n",
    "    \n",
    "with rio.open(os.path.join(data_path, \"S2_NDWI.tif\")) as src:\n",
    "    out_image, out_transform = mask(src, aoi_proj.geometry,crop=True)\n",
    "    out_meta = src.meta.copy()\n",
    "    out_meta.update({\"driver\": \"GTiff\",\n",
    "                 \"height\": out_image.shape[1],\n",
    "                 \"width\": out_image.shape[2],\n",
    "                 \"transform\": out_transform})\n",
    "    \n",
    "with rio.open(os.path.join(data_path, \"S2_NDWI_masked.tif\"), \"w\", **out_meta) as dest:\n",
    "    dest.write(out_image)   "
   ]
  },
  {
   "cell_type": "markdown",
   "metadata": {},
   "source": [
    "### Display NDVI and NDWI for the AOI"
   ]
  },
  {
   "cell_type": "markdown",
   "metadata": {},
   "source": [
    "The AOI represents an area of northern Corsica centred on the town of Bagnasca. To the west are mountains dominated by forests and woodlands of evergreen sclerophyll oaks which tend to give high values of NDVI intersperse by areas of grassland or bare ground occuring naturally or as a consequnce of forest fires. The patterns are more irregular and follow the terrain and hydrological features. The lowlands to east have been clear of forest for agriculture shown by a fine scale mosaic of regular geometric features representing crop fields with diffrerent NDVIs or the presence of vegetated boundary features. The lower values of NDVI (below zero) in the east are associated with the sea and the large lagoon of the Réserve naturelle de l'étang de Biguglia.\n",
    "\n",
    "As expected the NDWI gives high values for the open sea and lagoon areas of the image. Interestingly there are relatively high values for some of the fields in the coastal plane suggesting they may be flooded or irrigated. The bare surfaces have NDWI values below zero and the vegetated areas are lower still.\n",
    "\n",
    "The colour map used to display the NDVI uses a ramp from blue to green to emphasise the increasing density and vigour of vegetation at high NDVI values. If distinction are not so clear the cmap value can be change from \"BuGn\" or \"RdBu\" to something more appropriate with reference to the the available colour maps at [Choosing Colormaps in Matplotlib](https://matplotlib.org/3.1.0/tutorials/colors/colormaps.html)."
   ]
  },
  {
   "cell_type": "code",
   "execution_count": null,
   "metadata": {},
   "outputs": [],
   "source": [
    "ndvi_aoi = rio.open(os.path.join(data_path, 'S2_NDVI_masked.tif'))\n",
    "\n",
    "fig, (az, ay) = plt.subplots(1,2, figsize=(21, 7))\n",
    "\n",
    "# use imshow so that we have something to map the colorbar to\n",
    "image_hidden_1 = az.imshow(ndvi_aoi.read(1), \n",
    "                         cmap='BuGn')\n",
    "\n",
    "# LPIS_proj.plot(ax=ax, facecolor='none', edgecolor='k')\n",
    "\n",
    "image = show(ndvi_aoi, ax=az, cmap='BuGn', transform=ndvi_aoi.transform, title =\"NDVI\")\n",
    "\n",
    "fig.colorbar(image_hidden_1, ax=az)\n",
    "az.set_ylabel(\"Northing (m)\") #(WGS 84 / UTM zone 32N)\n",
    "az.set_xlabel(\"Easting (m)\")\n",
    "az.ticklabel_format(axis = 'both', style = 'plain')\n",
    "\n",
    "ndwi_aoi = rio.open(os.path.join(data_path, 'S2_NDWI_masked.tif'))\n",
    "\n",
    "# use imshow so that we have something to map the colorbar to\n",
    "image_hidden_1 = ay.imshow(ndwi_aoi.read(1), \n",
    "                         cmap='RdBu')\n",
    "\n",
    "# LPIS_proj.plot(ax=ax, facecolor='none', edgecolor='k')\n",
    "\n",
    "image = show(ndwi_aoi, ax=ay, cmap='RdBu', transform=ndwi_aoi.transform, title =\"NDWI\")\n",
    "\n",
    "fig.colorbar(image_hidden_1, ax=ay)\n",
    "ay.set_ylabel(\"Northing (m)\") #(WGS 84 / UTM zone 32N)\n",
    "ay.set_xlabel(\"Easting (m)\")\n",
    "ay.ticklabel_format(axis = 'both', style = 'plain')"
   ]
  },
  {
   "cell_type": "markdown",
   "metadata": {},
   "source": [
    "### Histogram of NDVI values"
   ]
  },
  {
   "cell_type": "markdown",
   "metadata": {},
   "source": [
    "If the NDVI values for the area are summarised as a histogram the two main levels of vegetation density / vigour become apprent. On the left of the plot there is a peak between NDVI values of -0.1 and 0.3 for the water and unvegetated areas together (with the water generally lower) and on the right the peak around an NDVI value of 0.8 is the dense forest and vigorous crops. The region in between shows spare vegetation, grassland and crops that are yet to mature. \n",
    "\n",
    "In the NDWI histogram there are multiple peaks representing the sea and lagoons, bare surfaes and vegetation respectively. The NDVI and NDWI can be used in combination to characterise regons within satellite images."
   ]
  },
  {
   "cell_type": "code",
   "execution_count": null,
   "metadata": {},
   "outputs": [],
   "source": [
    "fig, axhist = plt.subplots(1,1)\n",
    "show_hist(ndvi_aoi, bins=100, masked=False, title='Histogram of NDVI values', facecolor = 'g', ax =axhist)\n",
    "axhist.set_xlabel('NDVI')\n",
    "axhist.set_ylabel('number of pixels')\n",
    "plt.gca().get_legend().remove()\n",
    "\n",
    "fig, axhist = plt.subplots(1,1)\n",
    "show_hist(ndwi_aoi, bins=100, masked=False, title='Histogram of NDWI values', facecolor = 'b', ax =axhist)\n",
    "axhist.set_xlabel('NDWI')\n",
    "axhist.set_ylabel('number of pixels')\n",
    "plt.gca().get_legend().remove()"
   ]
  },
  {
   "cell_type": "markdown",
   "metadata": {},
   "source": [
    "### NDVI index on a cultivation pattern area"
   ]
  },
  {
   "cell_type": "markdown",
   "metadata": {},
   "source": [
    "We can look in more detail at the agricultural area to see the patterns in the NDVI values caused by differential crop density and growth. As before we load a vector file containing an AOI, subset the original Sentinel-2 NDVI image. This time we over lay a set of field boundaries from the Land Parcel Information System (LPIS) which highlight some of the management units.\n",
    "\n",
    "This analysis gives us a representation of the biophysical properties of the surface at the time of image acquisition. "
   ]
  },
  {
   "cell_type": "code",
   "execution_count": null,
   "metadata": {},
   "outputs": [],
   "source": [
    "#Load shapefile of the AOIs\n",
    "\n",
    "cult_zoom = gpd.read_file(os.path.join(path_shp, 'complex_cultivation_patterns_zoom.shp'))\n",
    "\n",
    "#Subset the Sentinel-2 NDVI image\n",
    "\n",
    "with rio.open(os.path.join(data_path, \"S2_NDVI.tif\")) as src:\n",
    "    out_image, out_transform = mask(src, cult_zoom.geometry,crop=True)\n",
    "    out_meta = src.meta.copy()\n",
    "    out_meta.update({\"driver\": \"GTiff\",\n",
    "                 \"height\": out_image.shape[1],\n",
    "                 \"width\": out_image.shape[2],\n",
    "                 \"transform\": out_transform})\n",
    "    \n",
    "with rio.open(os.path.join(data_path, \"NDVI_cultivation_area.tif\"), \"w\", **out_meta) as dest:\n",
    "    dest.write(out_image.astype(rio.float32))\n",
    "    \n",
    "#Display the results with the LPIS\n",
    "\n",
    "rcParams['axes.titlepad'] = 20 \n",
    "\n",
    "src_cult = rio.open(os.path.join(data_path, \"NDVI_cultivation_area.tif\"))\n",
    "\n",
    "fig, axg = plt.subplots(figsize=(21, 7))\n",
    "\n",
    "image_hidden_1 = axg.imshow(src_cult.read(1), \n",
    "                         cmap='BuGn')\n",
    "\n",
    "LPIS_proj.plot(ax=axg, facecolor='none', edgecolor='k')\n",
    "\n",
    "show(src_cult, ax=axg, cmap='BuGn', transform=src_cult.transform, title='NDVI - Complex cultivation patterns')\n",
    "\n",
    "fig.colorbar(image_hidden_1, ax=axg)\n",
    "\n",
    "axg.set_ylabel(\"Northing (m)\") #(WGS 84 / UTM zone 32N)\n",
    "axg.set_xlabel(\"Easting (m)\")\n",
    "\n",
    "plt.subplots_adjust(bottom=0.1, right=0.6, top=0.9)\n",
    "axg.ticklabel_format(axis = 'both', style = 'plain')"
   ]
  },
  {
   "cell_type": "markdown",
   "metadata": {},
   "source": [
    "## <a id='display_clc'></a>4. Read and view the CLC data"
   ]
  },
  {
   "cell_type": "markdown",
   "metadata": {},
   "source": [
    "The CORINE Land Cover (CLC) inventory has been produced at a European level in 1990, 2000, 2006, 2012, and 2018. It records land cover and land use in 44 classes with a Minimum Mapping Unit (MMU) of 25 hectares (ha) and a minimum feature width of 100 m. The time series of status maps are complemented by change layers, which highlight changes between the land cover land use classes with an MMU of 5 ha. The Eionet network of National Reference Centres Land Cover (NRC/LC) produce the CLC databases at Member State level, which are coordinated and integrated by EEA. CLC is produced by the majority of countries by visual interpretation of high spatial resolution satellite imagery (10 - 30 m spatial resolution). In a few countries semi-automatic solutions are applied, using national in-situ data, satellite image processing, GIS integration and generalisation. CLC has a wide variety of applications, underpinning various policies in the domains of environment, but also agriculture, transport, spatial planning etc."
   ]
  },
  {
   "cell_type": "markdown",
   "metadata": {},
   "source": [
    "### Crop the extent of the Corine Land Cover 2018 (CLC 2018) to the AOI and display"
   ]
  },
  {
   "cell_type": "markdown",
   "metadata": {},
   "source": [
    "As with the Sentinel-2 data it is necesasary to crop the pan-European CLC2018 dataset to be able to review it at the local level. "
   ]
  },
  {
   "cell_type": "markdown",
   "metadata": {},
   "source": [
    "### Set up paths to data"
   ]
  },
  {
   "cell_type": "code",
   "execution_count": null,
   "metadata": {},
   "outputs": [],
   "source": [
    "#path to Corine land cover 2018\n",
    "land_cover_dir = Path(os.path.join(download_dir_path,'u2018_clc2018_v2020_20u1_raster100m/DATA/'))\n",
    "legend_dir = Path(os.path.join(download_dir_path,'u2018_clc2018_v2020_20u1_raster100m/Legend/'))\n",
    "\n",
    "#path to the colormap\n",
    "txt_filename = legend_dir/'CLC2018_CLC2018_V2018_20_QGIS.txt'"
   ]
  },
  {
   "cell_type": "markdown",
   "metadata": {},
   "source": [
    "### Re-project vector files to the same coordinate system of the CLC 2018"
   ]
  },
  {
   "cell_type": "code",
   "execution_count": null,
   "metadata": {},
   "outputs": [],
   "source": [
    "aoi_3035 = aoi.to_crs(epsg=3035) # EPSG:3035 (ETRS89-extended / LAEA Europe)"
   ]
  },
  {
   "cell_type": "markdown",
   "metadata": {},
   "source": [
    "### Write CLC 2018 subset"
   ]
  },
  {
   "cell_type": "code",
   "execution_count": null,
   "metadata": {},
   "outputs": [],
   "source": [
    "with rio.open(str(land_cover_dir)+'/U2018_CLC2018_V2020_20u1.tif') as src:\n",
    "    out_image, out_transform = mask(src, aoi_3035.geometry,crop=True)\n",
    "    out_meta = src.meta.copy()\n",
    "    out_meta.update({\"driver\": \"GTiff\",\n",
    "                 \"height\": out_image.shape[1],\n",
    "                 \"width\": out_image.shape[2],\n",
    "                 \"transform\": out_transform,\n",
    "                 \"dtype\": \"int8\",\n",
    "                 \"nodata\":0\n",
    "                    })\n",
    "    \n",
    "with rio.open(\"CLC_masked/Corine_masked.tif\", \"w\", **out_meta) as dest:\n",
    "    dest.write(out_image)"
   ]
  },
  {
   "cell_type": "markdown",
   "metadata": {},
   "source": [
    "### Set up the legend for the CLC data"
   ]
  },
  {
   "cell_type": "markdown",
   "metadata": {},
   "source": [
    "As the CLC data is thematic in nature we must set up a legend to be displayed with the results showing the colour, code and definition of each land cover / land use class."
   ]
  },
  {
   "cell_type": "markdown",
   "metadata": {},
   "source": [
    "### Read CLC 2018 legend"
   ]
  },
  {
   "cell_type": "markdown",
   "metadata": {},
   "source": [
    "A text file is availabe which contains the details of the CLC nomenclature for building the legend when displaying CLC."
   ]
  },
  {
   "cell_type": "code",
   "execution_count": null,
   "metadata": {},
   "outputs": [],
   "source": [
    "### Create colorbar\n",
    "def parse_line(line):\n",
    "    _, r, g, b, a, descr = line.split(',')\n",
    "    return (int(r), int(g), int(b), int(a)), descr.split('\\n')[0]\n",
    "\n",
    "with open(txt_filename, 'r') as txtf:\n",
    "    lines = txtf.readlines()\n",
    "\n",
    "legend = {nline+1: parse_line(line) for nline, line in enumerate(lines[:-1])}\n",
    "legend[0] = parse_line(lines[-1])\n",
    "\n",
    "#print code and definition of each land cover / land use class\n",
    "def parse_line_class_list(line):\n",
    "    class_id, r, g, b, a, descr = line.split(',')\n",
    "    return (int(class_id), int(r), int(g), int(b), int(a)), descr.split('\\n')[0]\n",
    "\n",
    "with open(txt_filename, 'r') as txtf:\n",
    "    lines = txtf.readlines()\n",
    "\n",
    "legend_class = {nline+1: parse_line_class_list(line) for nline, line in enumerate(lines[:-1])}\n",
    "legend_class[0] = parse_line_class_list(lines[-1])\n",
    "\n",
    "print('Level 3 classes')\n",
    "for k, v in sorted(legend_class.items()):\n",
    "    print(f'{v[0][0]}\\t{v[1]}')"
   ]
  },
  {
   "cell_type": "markdown",
   "metadata": {},
   "source": [
    "### Build the legend for the CLC 2018 in the area of interest"
   ]
  },
  {
   "cell_type": "markdown",
   "metadata": {},
   "source": [
    "As less than half of the CLC classes are present in the AOI an area specific legend will be built to simplify interpretation."
   ]
  },
  {
   "cell_type": "code",
   "execution_count": null,
   "metadata": {},
   "outputs": [],
   "source": [
    "#open CLC 2018 subset\n",
    "cover_land = rio.open(\"CLC_masked/Corine_masked.tif\")\n",
    "\n",
    "array_rast = cover_land.read(1)\n",
    "\n",
    "#Set no data value to 0\n",
    "array_rast[array_rast == -128] = 0\n",
    "\n",
    "class_aoi = list(np.unique(array_rast))\n",
    "legend_aoi = dict((k, legend[k]) for k in class_aoi if k in legend)\n",
    "\n",
    "classes_list =[]\n",
    "number_list = []\n",
    "for k, v in sorted(legend_aoi.items()):\n",
    "    #print(f'{k}:\\t{v[1]}')\n",
    "    classes_list.append(v[1])\n",
    "    number_list.append(k)\n",
    "\n",
    "class_dict = dict(zip(classes_list,number_list))\n",
    "\n",
    "#create the colobar\n",
    "corine_cmap_aoi= ListedColormap([np.array(v[0]).astype(float)/255.0 for k, v in sorted(legend_aoi.items())])\n",
    "\n",
    "# Map the values in [0, 22]\n",
    "new_dict = dict()\n",
    "for i, v in enumerate(class_dict.items()):\n",
    "    new_dict[v[1]] = (v[0], i)\n",
    "\n",
    "fun = lambda x : new_dict[x][1]\n",
    "matrix = map(np.vectorize(fun), array_rast)\n",
    "matrix = np.matrix(list(matrix))"
   ]
  },
  {
   "cell_type": "markdown",
   "metadata": {},
   "source": [
    "### Display the CLC2018 data for the AOI"
   ]
  },
  {
   "cell_type": "markdown",
   "metadata": {},
   "source": [
    "The thematic nature and the 100 m spatial resolution of the CLC2018 give a very different view of the landscape compared to the Sentinel-2 data. CLC2018 offers a greater information content as it is a combination of multiple images, ancillary data and human interpretation while Sentinel-2 offers great spatial information for one instance in time. \n",
    "\n",
    "The separation of the mountains with woodland habitats and the coastal planes with agriculture can be clearly seen marked by a line of urban areas. The mountains are dominated by deciduous woodland, sclerophyllous vegetation and transitional scrub. The coastal planes consist of various types of agricultural land associated with small field farming practices.\n",
    "\n",
    "The most striking feature of the CLC2018 data is a large burnt area which resulted from a major forest fire in July 2017."
   ]
  },
  {
   "cell_type": "code",
   "execution_count": null,
   "metadata": {},
   "outputs": [],
   "source": [
    "#plot\n",
    "fig2, axs2 = plt.subplots(figsize=(10,10),sharey=True)\n",
    "show(matrix, ax=axs2, cmap=corine_cmap_aoi, transform = cover_land.transform, title = \"Corine Land Cover 2018\")\n",
    "norm = colors.BoundaryNorm(np.arange(corine_cmap_aoi.N + 1), corine_cmap_aoi.N + 1)\n",
    "cb = plt.colorbar(cm.ScalarMappable(norm=norm, cmap=corine_cmap_aoi), ax=axs2, fraction=0.03)\n",
    "cb.set_ticks([x+.5 for x in range(-1,22)]) # move the marks to the middle\n",
    "cb.set_ticklabels(list(class_dict.keys())) # label the colors\n",
    "axs2.ticklabel_format(axis = 'both', style = 'plain')\n",
    "axs2.set_ylabel(\"Northing (m)\") #EPSG:3035 (ETRS89-extended / LAEA Europe)\n",
    "axs2.set_xlabel(\"Easting (m)\")"
   ]
  },
  {
   "cell_type": "markdown",
   "metadata": {},
   "source": [
    "## <a id='CLC_burn_NDVI'></a>5. CLC2018 burnt area in the Sentinel-2 NDVI data"
   ]
  },
  {
   "cell_type": "markdown",
   "metadata": {},
   "source": [
    "The area of the burn will have a very low NDVI compared to the surounding unburnt vegetation. The boundary of the burn can be easily seen as well as remnants of the original vegetation which have survived the burn."
   ]
  },
  {
   "cell_type": "code",
   "execution_count": null,
   "metadata": {},
   "outputs": [],
   "source": [
    "#Load shapefile of the AOIs and check the crs\n",
    "\n",
    "burnt_aoi = gpd.read_file(os.path.join(path_shp, 'burnt_area.shp'))\n",
    "print(\"vector file crs:\")\n",
    "print(burnt_aoi.crs)\n",
    "\n",
    "burnt_aoi_32632 = burnt_aoi.to_crs(epsg=32632) #Sentinel-2 NDVI crs\n",
    "print(\"conversion to S2 NDVI crs:\")\n",
    "print(burnt_aoi_32632.crs)"
   ]
  },
  {
   "cell_type": "markdown",
   "metadata": {},
   "source": [
    "### Crop the extent of the NDVI image for burnt area"
   ]
  },
  {
   "cell_type": "code",
   "execution_count": null,
   "metadata": {},
   "outputs": [],
   "source": [
    "with rio.open(os.path.join(data_path, 'S2_NDVI_masked.tif')) as src:\n",
    "    out_image, out_transform = mask(src, burnt_aoi_32632.geometry,crop=True)\n",
    "    out_meta = src.meta.copy()\n",
    "    out_meta.update({\"driver\": \"GTiff\",\n",
    "                 \"height\": out_image.shape[1],\n",
    "                 \"width\": out_image.shape[2],\n",
    "                 \"transform\": out_transform})\n",
    "    \n",
    "with rio.open(os.path.join(data_path, \"NDVI_burnt_area.tif\"), \"w\", **out_meta) as dest:\n",
    "    dest.write(out_image)\n"
   ]
  },
  {
   "cell_type": "markdown",
   "metadata": {},
   "source": [
    "### Crop the extent of the CLC 2018 for burnt area"
   ]
  },
  {
   "cell_type": "code",
   "execution_count": null,
   "metadata": {},
   "outputs": [],
   "source": [
    "#open CLC 2018 subset\n",
    "\n",
    "cover_land = rio.open(\"CLC_masked/Corine_masked.tif\")\n",
    "\n",
    "print(cover_land.crs) #CLC 2018 crs\n",
    "burn_aoi_3035 = burnt_aoi.to_crs(epsg=3035) #conversion to CLC 2018 crs\n",
    "\n",
    "with rio.open(str(land_cover_dir)+'/U2018_CLC2018_V2020_20u1.tif') as src:\n",
    "    out_image, out_transform = mask(src, burn_aoi_3035.geometry,crop=True)\n",
    "    out_meta = src.meta.copy()\n",
    "    out_meta.update({\"driver\": \"GTiff\",\n",
    "                 \"height\": out_image.shape[1],\"width\": out_image.shape[2],\n",
    "                 \"transform\": out_transform,\n",
    "                 \"dtype\": \"int8\",\n",
    "                 \"nodata\":0\n",
    "                    })\n",
    "    \n",
    "with rio.open(\"CLC_masked/Corine_burnt_area.tif\", \"w\", **out_meta) as dest:\n",
    "    dest.write(out_image)"
   ]
  },
  {
   "cell_type": "code",
   "execution_count": null,
   "metadata": {},
   "outputs": [],
   "source": [
    "# Re-project S2 NDVI image to CLC 2018 crs\n",
    "\n",
    "clc_2018_burnt_aoi = rio.open(\"CLC_masked/Corine_burnt_area.tif\")\n",
    "dst_crs = clc_2018_burnt_aoi.crs\n",
    "\n",
    "\n",
    "with rio.open(os.path.join(data_path, \"NDVI_burnt_area.tif\")) as src:\n",
    "    transform, width, height = calculate_default_transform(\n",
    "        src.crs, dst_crs, src.width, src.height, *src.bounds)\n",
    "    kwargs = src.meta.copy()\n",
    "    kwargs.update({\n",
    "        'crs': dst_crs,\n",
    "        'transform': transform,\n",
    "        'width': width,\n",
    "        'height': height\n",
    "    })\n",
    "\n",
    "    with rio.open(os.path.join(data_path, \"NDVI_burnt_area_EPSG_3035.tif\"), 'w', **kwargs) as dst:\n",
    "        reproject(source=rio.band(src,1),\n",
    "                destination=rio.band(dst,1),\n",
    "                src_transform=src.transform,\n",
    "                src_crs=src.crs,\n",
    "                dst_transform=transform,\n",
    "                dst_crs=dst_crs,\n",
    "                resampling=Resampling.nearest)"
   ]
  },
  {
   "cell_type": "markdown",
   "metadata": {},
   "source": [
    "### Display NDVI index on the AOIs"
   ]
  },
  {
   "cell_type": "code",
   "execution_count": null,
   "metadata": {},
   "outputs": [],
   "source": [
    "# Build the legend for the CLC 2018 in the area of interest\n",
    "\n",
    "array_rast_b = clc_2018_burnt_aoi.read(1)\n",
    "\n",
    "#Set no data value to 0\n",
    "array_rast_b[array_rast_b == -128] = 0\n",
    "\n",
    "class_aoi_b = list(np.unique(array_rast_b))\n",
    "legend_aoi_b = dict((k, legend[k]) for k in class_aoi_b if k in legend)\n",
    "classes_list_b =[]\n",
    "number_list_b = []\n",
    "\n",
    "for k, v in sorted(legend_aoi_b.items()):\n",
    "    #print(f'{k}:\\t{v[1]}')\n",
    "    classes_list_b.append(v[1])\n",
    "    number_list_b.append(k)\n",
    "\n",
    "class_dict_b = dict(zip(classes_list_b,number_list_b))\n",
    "#create the colobar\n",
    "corine_cmap_aoi_b= ListedColormap([np.array(v[0]).astype(float)/255.0 for k, v in sorted(legend_aoi_b.items())])\n",
    "\n",
    "# Map the values in [0, 22]\n",
    "new_dict_b = dict()\n",
    "for i, v in enumerate(class_dict_b.items()):\n",
    "    new_dict_b[v[1]] = (v[0], i)\n",
    "\n",
    "fun_b = lambda x : new_dict_b[x][1]\n",
    "matrix_b = map(np.vectorize(fun_b), array_rast_b)\n",
    "matrix_b = np.matrix(list(matrix_b))\n",
    "\n",
    "\n",
    "#Plot\n",
    "\n",
    "rcParams['axes.titlepad'] = 20 \n",
    "src_burnt = rio.open(os.path.join(data_path, \"NDVI_burnt_area_EPSG_3035.tif\"))\n",
    "\n",
    "fig_b, (axr_b, axg_b) = plt.subplots(1,2, figsize=(25, 8))\n",
    "\n",
    "image_hidden_1_b = axr_b.imshow(src_burnt.read(1), \n",
    "                         cmap='BuGn')\n",
    "\n",
    "show(src_burnt, ax=axr_b, cmap='BuGn', transform=src_burnt.transform, title='NDVI - Burnt area')\n",
    "show(matrix_b, ax=axg_b, cmap=corine_cmap_aoi_b, transform=clc_2018_burnt_aoi.transform, title='CLC 2018 - Burnt area')\n",
    "\n",
    "fig_b.colorbar(image_hidden_1_b, ax=axr_b)\n",
    "plt.tight_layout(h_pad=1.0)\n",
    "\n",
    "norm = colors.BoundaryNorm(np.arange(corine_cmap_aoi_b.N + 1), corine_cmap_aoi_b.N + 1)\n",
    "cb = plt.colorbar(cm.ScalarMappable(norm=norm, cmap=corine_cmap_aoi_b), ax=axg_b, fraction=0.03)\n",
    "cb.set_ticks([x+.5 for x in range(-1,6)]) # move the marks to the middle\n",
    "cb.set_ticklabels(list(class_dict_b.keys())) # label the colors\n",
    "axg_b.ticklabel_format(axis = 'both', style = 'plain')\n",
    "\n",
    "\n",
    "axr_b.set_ylabel(\"Northing (m)\") #(WGS 84 / UTM zone 32N)\n",
    "axr_b.set_xlabel(\"Easting (m)\")\n",
    "axg_b.set_ylabel(\"Northing (m)\") #(WGS 84 / UTM zone 32N)\n",
    "axg_b.set_xlabel(\"Easting (m)\")\n",
    "\n",
    "axr_b.ticklabel_format(axis = 'both', style = 'plain')\n",
    "axg_b.ticklabel_format(axis = 'both', style = 'plain')\n",
    "plt.tight_layout(h_pad=1.0)\n"
   ]
  },
  {
   "cell_type": "markdown",
   "metadata": {},
   "source": [
    "<hr>"
   ]
  },
  {
   "cell_type": "markdown",
   "metadata": {},
   "source": [
    "<p><img src='./img/all_partners_wekeo_2.png' align='left' alt='Logo EU Copernicus' width='100%'></img></p>"
   ]
  },
  {
   "cell_type": "code",
   "execution_count": null,
   "metadata": {},
   "outputs": [],
   "source": []
  },
  {
   "cell_type": "code",
   "execution_count": null,
   "metadata": {},
   "outputs": [],
   "source": []
  }
 ],
 "metadata": {
  "kernelspec": {
   "display_name": "Python 3 (ipykernel)",
   "language": "python",
   "name": "python3"
  },
  "language_info": {
   "codemirror_mode": {
    "name": "ipython",
    "version": 3
   },
   "file_extension": ".py",
   "mimetype": "text/x-python",
   "name": "python",
   "nbconvert_exporter": "python",
   "pygments_lexer": "ipython3",
   "version": "3.8.6"
  }
 },
 "nbformat": 4,
 "nbformat_minor": 4
}
